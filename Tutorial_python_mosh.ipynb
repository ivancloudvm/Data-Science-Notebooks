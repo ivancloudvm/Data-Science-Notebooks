{
 "cells": [
  {
   "cell_type": "markdown",
   "metadata": {},
   "source": [
    "![](https://www.python.org/static/community_logos/python-logo-master-v3-TM.png)"
   ]
  },
  {
   "cell_type": "markdown",
   "metadata": {},
   "source": [
    "\n",
    "<ivancloudvm@gmail.com>\n",
    "# Tutorial Python Mosh \n",
    "https://www.youtube.com/watch?v=_uQrJ0TkZlc&t=13134s&ab_channel=ProgrammingwithMosh\n",
    "\n",
    "- Habrá cosas en este documento de las que Mosh NO habla.\n",
    "- Para empezar a escribir esto se debe activar la celda en modo \"Markdown\" (con la tecla M en modo comando se convierte la celda en modo Markdown y C para modo código) arriba de estas celdas. Si no se tomará la celda en modo \"Code\".\n",
    "- Con \"#\" al inicio significa un encabezado, para titulos, con \"##\" para subtitulos, hasta ###.  \n",
    "- Para dejar espacio vertical (entre parrafos) es necesario dejar una fila en blanco. \n",
    "- Para seleccionar entre modo Codigo y modo Markdown se pueden apretar las teclas Y & M en modo Comando (no en modo edicion) para cada celda respectivamente.\n",
    "- Más cosas sobre el Markdown se pueden encontrar en: https://medium.com/analytics-vidhya/the-ultimate-markdown-guide-for-jupyter-notebook-d5e5abf728fd\n",
    "- Los ejemplos los saqué de https://codingbat.com/ dando mis propias soluciones.\n",
    "\n",
    "Aquí empezaré a trabajar en el tutorial de Mosh...\n"
   ]
  },
  {
   "cell_type": "markdown",
   "metadata": {},
   "source": [
    "## Función print()\n",
    "\n",
    "Cosas que se pueden hacer con el módulo print():"
   ]
  },
  {
   "cell_type": "code",
   "execution_count": 1,
   "metadata": {},
   "outputs": [
    {
     "name": "stdout",
     "output_type": "stream",
     "text": [
      "1\n",
      "hola mundo\n",
      "****\n"
     ]
    }
   ],
   "source": [
    "print(1 , \"hola mundo\", \"*\"*4, sep=\"\\n\")              #sep se refiere a separacion, y \\n es un salto de linea."
   ]
  },
  {
   "cell_type": "markdown",
   "metadata": {},
   "source": [
    "## Tipos de  Variables "
   ]
  },
  {
   "cell_type": "code",
   "execution_count": 2,
   "metadata": {},
   "outputs": [
    {
     "name": "stdout",
     "output_type": "stream",
     "text": [
      "20\n"
     ]
    }
   ],
   "source": [
    "price = 10\n",
    "price = 20  # lo interpreta linea a linea\n",
    "print(price)"
   ]
  },
  {
   "cell_type": "code",
   "execution_count": 3,
   "metadata": {},
   "outputs": [],
   "source": [
    "entero = 10   #enteros\n",
    "flotante = 3.45   #flotantes\n",
    "nombre = \"ivan\"    #cadenas (strings)\n",
    "esta_publicado = False    #boolean "
   ]
  },
  {
   "cell_type": "markdown",
   "metadata": {},
   "source": [
    "### Primer ejercicio "
   ]
  },
  {
   "cell_type": "code",
   "execution_count": 4,
   "metadata": {
    "scrolled": true
   },
   "outputs": [
    {
     "name": "stdout",
     "output_type": "stream",
     "text": [
      "John Smith tiene 20 años y es nuevo paciente\n"
     ]
    }
   ],
   "source": [
    "name = \"John Smith\"\n",
    "age = 20\n",
    "status = \"nuevo paciente\"\n",
    "print(name + \" tiene \"+ str(age) +\" años y es \"+ status)"
   ]
  },
  {
   "cell_type": "markdown",
   "metadata": {},
   "source": [
    "## Función input()"
   ]
  },
  {
   "cell_type": "code",
   "execution_count": 5,
   "metadata": {},
   "outputs": [
    {
     "name": "stdout",
     "output_type": "stream",
     "text": [
      "Cual es tu nombre? a\n",
      "Hola a\n"
     ]
    }
   ],
   "source": [
    "nombre = input(\"Cual es tu nombre? \")\n",
    "print(\"Hola \" + nombre)    # + es para concatenar"
   ]
  },
  {
   "cell_type": "markdown",
   "metadata": {},
   "source": [
    "### 2o ejercicio \n",
    "\n",
    "Usé el método `capitalize()` para que la primera letra del string quede en mayuscula."
   ]
  },
  {
   "cell_type": "code",
   "execution_count": 6,
   "metadata": {
    "scrolled": true
   },
   "outputs": [
    {
     "name": "stdout",
     "output_type": "stream",
     "text": [
      "Cual es su nombre? a\n",
      "Cual es su color favorito? a\n",
      "A A le gusta el color a\n"
     ]
    }
   ],
   "source": [
    "nombre1 = input(\"Cual es su nombre? \")\n",
    "color_fav = input(\"Cual es su color favorito? \")\n",
    "print(\"A \" + nombre1.capitalize() + \" le gusta el color \" + color_fav)"
   ]
  },
  {
   "cell_type": "markdown",
   "metadata": {},
   "source": [
    "## Tipos de datos"
   ]
  },
  {
   "cell_type": "code",
   "execution_count": 7,
   "metadata": {},
   "outputs": [
    {
     "name": "stdout",
     "output_type": "stream",
     "text": [
      "Año de nacimiento: a\n"
     ]
    },
    {
     "ename": "ValueError",
     "evalue": "invalid literal for int() with base 10: 'a'",
     "output_type": "error",
     "traceback": [
      "\u001b[1;31m---------------------------------------------------------------------------\u001b[0m",
      "\u001b[1;31mValueError\u001b[0m                                Traceback (most recent call last)",
      "\u001b[1;32m<ipython-input-7-e8b71a5cf3a3>\u001b[0m in \u001b[0;36m<module>\u001b[1;34m\u001b[0m\n\u001b[0;32m      7\u001b[0m \u001b[1;31m# type() da el tipo de dato del argumento.\u001b[0m\u001b[1;33m\u001b[0m\u001b[1;33m\u001b[0m\u001b[1;33m\u001b[0m\u001b[0m\n\u001b[0;32m      8\u001b[0m \u001b[1;33m\u001b[0m\u001b[0m\n\u001b[1;32m----> 9\u001b[1;33m \u001b[0mbirth_year\u001b[0m \u001b[1;33m=\u001b[0m \u001b[0mint\u001b[0m\u001b[1;33m(\u001b[0m\u001b[0minput\u001b[0m\u001b[1;33m(\u001b[0m\u001b[1;34m\"Año de nacimiento: \"\u001b[0m\u001b[1;33m)\u001b[0m\u001b[1;33m)\u001b[0m      \u001b[1;31m#input da una str\u001b[0m\u001b[1;33m\u001b[0m\u001b[1;33m\u001b[0m\u001b[0m\n\u001b[0m\u001b[0;32m     10\u001b[0m \u001b[0medad\u001b[0m \u001b[1;33m=\u001b[0m \u001b[0mnow\u001b[0m\u001b[1;33m.\u001b[0m\u001b[0myear\u001b[0m \u001b[1;33m-\u001b[0m \u001b[0mbirth_year\u001b[0m   \u001b[1;31m#aquí la edad es int\u001b[0m\u001b[1;33m\u001b[0m\u001b[1;33m\u001b[0m\u001b[0m\n\u001b[0;32m     11\u001b[0m \u001b[0mprint\u001b[0m\u001b[1;33m(\u001b[0m\u001b[1;34m\"Tú edad es de \"\u001b[0m \u001b[1;33m+\u001b[0m \u001b[0mstr\u001b[0m\u001b[1;33m(\u001b[0m\u001b[0medad\u001b[0m\u001b[1;33m)\u001b[0m \u001b[1;33m+\u001b[0m \u001b[1;34m\" años.\"\u001b[0m\u001b[1;33m)\u001b[0m  \u001b[1;31m#print pide variables str\u001b[0m\u001b[1;33m\u001b[0m\u001b[1;33m\u001b[0m\u001b[0m\n",
      "\u001b[1;31mValueError\u001b[0m: invalid literal for int() with base 10: 'a'"
     ]
    }
   ],
   "source": [
    "from datetime import datetime    #esto es para trabajar con fechas\n",
    "now = datetime.now()             # defino now como la fecha actual\n",
    "\n",
    "# int() convierte el argumento en entero\n",
    "# float() convierte el argumento en flotante\n",
    "# bool() convierte el argumento en booleano\n",
    "# type() da el tipo de dato del argumento.\n",
    "\n",
    "birth_year = int(input(\"Año de nacimiento: \"))      #input da una str\n",
    "edad = now.year - birth_year   #aquí la edad es int \n",
    "print(\"Tú edad es de \" + str(edad) + \" años.\")  #print pide variables str\n",
    "print(f\"Tu edad es de {edad} años\")         #tambien se puede usar este formato\n",
    "\n"
   ]
  },
  {
   "cell_type": "markdown",
   "metadata": {},
   "source": [
    "### 3er ejercicio  - Conversión de unidades"
   ]
  },
  {
   "cell_type": "code",
   "execution_count": 8,
   "metadata": {},
   "outputs": [
    {
     "name": "stdout",
     "output_type": "stream",
     "text": [
      "Unidades en libras (lb): 123\n",
      "Unidades en kilogramos: 55.35 kg\n"
     ]
    }
   ],
   "source": [
    "weight_lb = float(input(\"Unidades en libras (lb): \"))\n",
    "weight_kg = weight_lb * 0.45 \n",
    "\n",
    "print(\"Unidades en kilogramos:\",str(weight_kg) + \" kg\")"
   ]
  },
  {
   "cell_type": "markdown",
   "metadata": {},
   "source": [
    "## Cadenas, funciones útiles\n",
    "\n",
    " funciones : len()\n",
    " \n",
    " metodos: upper(), lower(), title(), find(), replace()\n",
    " \n",
    " operadores:  in "
   ]
  },
  {
   "cell_type": "code",
   "execution_count": null,
   "metadata": {},
   "outputs": [],
   "source": [
    "curso = \"Python para principiantes\"\n",
    "otra = curso[:]             #crea una copia de la cadena curso.\n",
    "\n",
    "print(curso[0], curso[1], curso [-1], curso[6])\n",
    "print(curso[0:6])\n",
    "print(curso[1:])\n",
    "print(curso[:6]) \n",
    "print(curso[:-1])\n",
    "print(otra[1:-1])\n",
    "\n",
    "first = \"ivan\"\n",
    "last = \"vazquez\"\n",
    "\n",
    "mensaje = first + \" [\" + last + \"] es un programador\"\n",
    "print (mensaje)\n",
    "\n",
    "#Formated string\n",
    "msg = f\"{first} [{last}] is a coder\"\n",
    "print(msg)\n",
    "\n",
    "#funciones y metodos\n",
    "print(len(curso))          #len() da el numero de caracteres del argumnto\n",
    "print(curso.upper())        #el metodo upper() convierte curso a mayusculas\n",
    "print(curso.lower())        # lo mismo que upper pero con minusculas\n",
    "print(curso.title())        #pone en mayus las primeras letras de cada palabra\n",
    "print(curso.find(\"i\"))      #el metodo find() regresa el primer indice del argumento.\n",
    "print(curso.replace(\"Py\",\"Jo\"))  #replace() reemplaza uno o varios caracteres\n",
    "print(\"Python\" in curso)       #operador lógico \"in\" regresa booleano"
   ]
  },
  {
   "cell_type": "markdown",
   "metadata": {},
   "source": [
    "## Operadores matemáticos\n",
    "- `+` suma\n",
    "- `-` resta\n",
    "- `*` producto\n",
    "- `/` division \n",
    "- `//` division entera\n",
    "- `**` potencia\n",
    "- `%` módulo (da el residuo de la division)\n",
    "\n",
    ">modulos: `math`   https://docs.python.org/3/library/math.html\n",
    "\n",
    ">funciones: `round()`, `abs()` \n"
   ]
  },
  {
   "cell_type": "code",
   "execution_count": null,
   "metadata": {},
   "outputs": [],
   "source": [
    "import math\n",
    "x = math.pi\n",
    "x += 10      #es lo mismo que x=x+10\n",
    "print(x)\n",
    "print(math.floor(x))\n",
    "print(math.ceil(x))\n"
   ]
  },
  {
   "cell_type": "markdown",
   "metadata": {},
   "source": [
    "## Declaración if "
   ]
  },
  {
   "cell_type": "code",
   "execution_count": null,
   "metadata": {},
   "outputs": [],
   "source": [
    "is_hot = False\n",
    "is_cold = True\n",
    "\n",
    "if is_hot:\n",
    "    print(\"It's a hot day\")\n",
    "    print(\"Drink plenty of water\")\n",
    "elif is_cold:\n",
    "    print(\"It's a cold day\", \"Wear warm clothes\", sep =\"\\n\")   #con esta opción no es necesario escribir tantos print()\n",
    "else:\n",
    "    print(\"It's a lovely day\")"
   ]
  },
  {
   "cell_type": "markdown",
   "metadata": {},
   "source": [
    "### 4o ejercicio"
   ]
  },
  {
   "cell_type": "code",
   "execution_count": null,
   "metadata": {},
   "outputs": [],
   "source": [
    "price = 1000000\n",
    "good_credit = True\n",
    "\n",
    "if good_credit:\n",
    "    price -= price*0.1\n",
    "else:\n",
    "    price -= price*0.2\n",
    "print(f\"Precio de la casa: ${price}\")"
   ]
  },
  {
   "cell_type": "markdown",
   "metadata": {},
   "source": [
    "## Operadores lógicos\n",
    "- AND  ambas condiciones deben ser True\n",
    "- OR   almenos una condicion debe ser True\n",
    "- NOT  si es True regresa False y viceversa\n",
    "\n",
    "Si queremos , por ejemplo, usar la siguiente oracion: \"if a or b or c , but not all of them\" podemos usar: if (a or b or c) and not (a and b and c):"
   ]
  },
  {
   "cell_type": "code",
   "execution_count": null,
   "metadata": {},
   "outputs": [],
   "source": [
    "has_high_income = False\n",
    "has_good_credit = True\n",
    "\n",
    "if has_high_income and has_good_credit:\n",
    "    print(\"Eligible for loan\")\n",
    "else:\n",
    "    print(\"Not eligible for loan\")"
   ]
  },
  {
   "cell_type": "markdown",
   "metadata": {},
   "source": [
    "### Ejemplos - De https://codingbat.com\n",
    "\n",
    "\n",
    "Given 2 int values, return True if one is negative and one is positive. Except if the parameter \"negative\" is True, then return True only if both are negative."
   ]
  },
  {
   "cell_type": "code",
   "execution_count": null,
   "metadata": {},
   "outputs": [],
   "source": [
    "\n",
    "def pos_neg(a, b, negative):\n",
    "  if negative:\n",
    "    return (a < 0 and b < 0)\n",
    "  else:\n",
    "    return ((a < 0 and b > 0) or (a > 0 and b < 0))\n",
    "\n",
    "print(pos_neg(-1,1,False))"
   ]
  },
  {
   "cell_type": "markdown",
   "metadata": {},
   "source": [
    "We have two monkeys, a and b, and the parameters a_smile and b_smile indicate if each is smiling. We are in trouble if they are both smiling or if neither of them is smiling. Return True if we are in trouble."
   ]
  },
  {
   "cell_type": "code",
   "execution_count": null,
   "metadata": {},
   "outputs": [],
   "source": [
    "def monkey_trouble(a_smile, b_smile):\n",
    "  if (a_smile and b_smile) or  (not a_smile and not b_smile):\n",
    "      return True\n",
    "  else:\n",
    "      return False\n",
    "    \n",
    "# Otra manera:\n",
    "# def monkey_trouble(a_smile, b_smile):\n",
    "#    return (a_smile == b_smile)\n",
    "\n",
    "print(monkey_trouble(True,False))"
   ]
  },
  {
   "cell_type": "markdown",
   "metadata": {},
   "source": [
    "## Operadores de comparación \n",
    "- $>$ mayor que\n",
    "- $>=$ mayor o igual que\n",
    "- $<$ menor que\n",
    "- $<=$ menor o igual que\n",
    "- $==$ igual que\n",
    "- $!=$ no igual que\n"
   ]
  },
  {
   "cell_type": "code",
   "execution_count": null,
   "metadata": {},
   "outputs": [],
   "source": [
    "temperatura = 31\n",
    "\n",
    "if temperatura > 30:\n",
    "    print(\"Es un día caluroso\")\n",
    "else:\n",
    "    print(\"No es un día caluroso\")"
   ]
  },
  {
   "cell_type": "markdown",
   "metadata": {},
   "source": [
    "### 5o ejercicio"
   ]
  },
  {
   "cell_type": "code",
   "execution_count": null,
   "metadata": {},
   "outputs": [],
   "source": [
    "nombre = input(\"Ingrese un nombre (con más de 3 caracteres): \")\n",
    "\n",
    "if len(nombre) < 3:\n",
    "    print(\"El nombre debe contener al menos 3 caracteres\")\n",
    "elif len(nombre) > 10:\n",
    "    print(\"El nombre debe contener un máximo de 10 caracteres\")\n",
    "else:\n",
    "    print(f\"El nombre se ve bien: {nombre.capitalize()}\")"
   ]
  },
  {
   "cell_type": "markdown",
   "metadata": {},
   "source": [
    "### 6o ejercicio - Conversor de unidades\n",
    "\n"
   ]
  },
  {
   "cell_type": "code",
   "execution_count": null,
   "metadata": {},
   "outputs": [],
   "source": [
    "peso = float(input(\"Cual es su peso? \"))\n",
    "unidad = input(\"(L)bs o (K)g? \")\n",
    "peso_convertido = peso\n",
    "\n",
    "if unidad.upper() == \"L\":\n",
    "    peso_convertido *= 0.45\n",
    "    unidad_conversion = \"kg\"\n",
    "elif unidad.upper() == \"L\":\n",
    "    peso_convertido /= 0.45\n",
    "    unidad_conversion = \"lb\"\n",
    "else:\n",
    "    print(\"Error: Debe presionar la tecla L o K\")\n",
    "print(f\"Su peso es de: {peso_convertido} {unidad_conversion}\")"
   ]
  },
  {
   "cell_type": "markdown",
   "metadata": {},
   "source": [
    "### Ejemplo\n",
    "Given 2 ints, a and b, return True if one if them is 10 or if their sum is 10."
   ]
  },
  {
   "cell_type": "code",
   "execution_count": null,
   "metadata": {},
   "outputs": [],
   "source": [
    "def makes10(a, b):\n",
    "  return (a == 10 or b == 10) or ((a+b) == 10) \n",
    "\n",
    "print(makes10(10, 0))"
   ]
  },
  {
   "cell_type": "markdown",
   "metadata": {},
   "source": [
    "## While loops\n",
    "\n"
   ]
  },
  {
   "cell_type": "code",
   "execution_count": null,
   "metadata": {},
   "outputs": [],
   "source": [
    "i=1\n",
    "\n",
    "while True:\n",
    "    print(\"*\" * i + \" \" * i + \"*\"*(i+1) + \" \"* i + \"*\"*(i+2) + \" \" * i + \"*\"*(i+3) + \" \"* i + \"*\"*(i+4))\n",
    "    i += 1\n",
    "    if i == 6:\n",
    "        break\n",
    "while True:\n",
    "    print(\"*\"* i + \" \"* i + \"*\"*(i+1) + \" \"* i + \"*\"*(i+2) + \" \" * i + \"*\"*(i+3) + \" \"* i + \"*\"*(i+4))\n",
    "    i -= 1\n",
    "    if i == 0:\n",
    "        break\n",
    "\n",
    "    \n",
    "\n",
    "print(\"Done\")"
   ]
  },
  {
   "cell_type": "markdown",
   "metadata": {},
   "source": [
    "### 7o ejercicio - Guessing game"
   ]
  },
  {
   "cell_type": "code",
   "execution_count": null,
   "metadata": {},
   "outputs": [],
   "source": [
    "numero = 9\n",
    "intentos = 0\n",
    "limite_intentos = 3\n",
    "\n",
    "while intentos < limite_intentos:\n",
    "    guess = int(input(\"Ingrese un numero del 0 al 9: \"))\n",
    "    intentos += 1\n",
    "    if guess == numero:\n",
    "        print(\"Correcto, ha ganado!\")\n",
    "        break\n",
    "    else:\n",
    "        print(\"Ese no es el numero\")\n",
    "else:\n",
    "    print(\"Perdiste, fallaste 3 veces...\")\n",
    "    \n",
    "    "
   ]
  },
  {
   "cell_type": "markdown",
   "metadata": {},
   "source": [
    "### 8o ejercicio - Car game"
   ]
  },
  {
   "cell_type": "code",
   "execution_count": null,
   "metadata": {},
   "outputs": [],
   "source": [
    "termina = \"quit\"\n",
    "comando = \"\"\n",
    "started = False\n",
    "\n",
    "while True:\n",
    "    print(\"Digite help para ver los comandos disponibles:\")\n",
    "    comando = input(\"> \").lower()              #se pone lower aquí para no repetir .lowet en cada comando\n",
    "    \n",
    "    if comando == \"help\":\n",
    "        print(\"Comandos disponibles: \",\"\\n\",\n",
    "              \"help - Muestra estos comandos.\",\n",
    "             \"start - Arrancar carro\",\n",
    "              \"stop - detener carro\",\n",
    "              \"quit - Terminar juego\",\n",
    "              \"\\n\", sep = \"\\n\")     #se puede usar triple \"\" para imprimir multiples lineas de texto.\n",
    "    elif comando == \"start\":\n",
    "        if started:\n",
    "            print(\"el carro ya habia arrancado...\")\n",
    "        else:\n",
    "            started = True\n",
    "            print(\"El carro arrancó...\")\n",
    "    elif comando == \"stop\":\n",
    "        if not started:\n",
    "            print(\"El carro ya se detuvo...\")\n",
    "        else:\n",
    "            started = False\n",
    "            print(\"El carro se detuvo...\")\n",
    "    elif comando == \"quit\":\n",
    "        break\n",
    "    \n",
    "    else:\n",
    "        print(\"comando no valido.\")\n",
    "    "
   ]
  },
  {
   "cell_type": "markdown",
   "metadata": {},
   "source": [
    "## For loops\n",
    "\n",
    "Funciones: range()"
   ]
  },
  {
   "cell_type": "code",
   "execution_count": null,
   "metadata": {},
   "outputs": [],
   "source": [
    "for item in range(1,10,2):\n",
    "    print(item)"
   ]
  },
  {
   "cell_type": "markdown",
   "metadata": {},
   "source": [
    "### 9o ejercicio"
   ]
  },
  {
   "cell_type": "code",
   "execution_count": null,
   "metadata": {},
   "outputs": [],
   "source": [
    "prices = [10,20,30]\n",
    "suma = 0\n",
    "\n",
    "for item in prices:\n",
    "    suma += item\n",
    "    \n",
    "print(f\"El total es: {suma}\")"
   ]
  },
  {
   "cell_type": "markdown",
   "metadata": {},
   "source": [
    "### Ejemplo\n",
    "\n",
    "\n",
    "Given 2 strings, a and b, return the number of the positions where they contain the same length 2 substring. So \"xxcaazz\" and \"xxbaaz\" yields 3, since the \"xx\", \"aa\", and \"az\" substrings appear in the same place in both strings."
   ]
  },
  {
   "cell_type": "code",
   "execution_count": null,
   "metadata": {},
   "outputs": [],
   "source": [
    "def string_match(a, b):\n",
    "    minima_string = min(len(a), len(b))\n",
    "    contador = 0\n",
    "    \n",
    "    for i in range (minima_string-1):\n",
    "        a_sub = a[i:i+2]\n",
    "        b_sub = b[i:i+2]\n",
    "        if a_sub == b_sub:\n",
    "            contador += 1\n",
    "    return contador\n",
    "        \n",
    "  \n",
    "\n",
    "print(string_match(\"xxjjaayyzz\", \"qqnnaayyzz\"))"
   ]
  },
  {
   "cell_type": "markdown",
   "metadata": {},
   "source": [
    "## Nested loops"
   ]
  },
  {
   "cell_type": "code",
   "execution_count": null,
   "metadata": {
    "scrolled": false
   },
   "outputs": [],
   "source": [
    "for x in range (3):\n",
    "    for y in range(3):\n",
    "        for z in range(3):\n",
    "            print(f\"({x},{y},{z})\")"
   ]
  },
  {
   "cell_type": "markdown",
   "metadata": {},
   "source": [
    "### Reto"
   ]
  },
  {
   "cell_type": "code",
   "execution_count": null,
   "metadata": {},
   "outputs": [],
   "source": [
    "numbers = [2,2,2,2,5]\n",
    "\n",
    "for number in numbers:\n",
    "    simbolo = \"\"\n",
    "    for i in range(number):\n",
    "        simbolo +=\"x\"\n",
    "    print(simbolo)"
   ]
  },
  {
   "cell_type": "markdown",
   "metadata": {},
   "source": [
    "### Ejemplo\n",
    "\n",
    "Given a string, return the count of the number of times that a substring length 2 appears in the string and also as the last 2 chars of the string, so \"hixxxhi\" yields 1 (we won't count the end substring)."
   ]
  },
  {
   "cell_type": "code",
   "execution_count": null,
   "metadata": {},
   "outputs": [],
   "source": [
    "def last2(str):\n",
    "    if len(str) < 2:\n",
    "        return 0\n",
    "    last2 = str[-2:]\n",
    "    cuenta = 0\n",
    "    for i in range(len(str)-2):\n",
    "        sub = str[i:i+2]\n",
    "        if sub == last2:\n",
    "           cuenta += 1\n",
    "    return cuenta\n",
    "\n",
    "\n",
    "print(last2(\"hhoollaahhoohh\"))"
   ]
  },
  {
   "cell_type": "markdown",
   "metadata": {},
   "source": [
    "## Listas: [...]\n",
    "\n",
    "Son mutables.\n",
    "\n",
    "Metodos: append(), endswith(), lower()"
   ]
  },
  {
   "cell_type": "code",
   "execution_count": null,
   "metadata": {},
   "outputs": [],
   "source": [
    "nombres = [\"jhon\", \"bob\", \"mosh\", \"sara\"]\n",
    "\n",
    "print(nombres == nombres[:])\n",
    "print(nombres[1:])\n",
    "print(nombres[0:-1])"
   ]
  },
  {
   "cell_type": "markdown",
   "metadata": {},
   "source": [
    "### 10o ejercicio"
   ]
  },
  {
   "cell_type": "code",
   "execution_count": null,
   "metadata": {},
   "outputs": [],
   "source": [
    "#Programa que encuentre el  máximo (y minimo) numero en una lista.\n",
    "\n",
    "\n",
    "lista = [22, 1, 3, 45, 4, 2, 6, 11, 145, 21, 36, 77, -164]\n",
    "maximo = lista[0]\n",
    "minimo = maximo\n",
    "for numero in lista:\n",
    "    if numero > maximo:\n",
    "        maximo = numero\n",
    "print(f\"El maximo numero en lista es: {maximo}\")\n",
    "\n",
    "for numero in lista:\n",
    "    if numero < minimo:\n",
    "        minimo = numero\n",
    "print(f\"El minimo numero en la lista es: {minimo}\")"
   ]
  },
  {
   "cell_type": "code",
   "execution_count": null,
   "metadata": {},
   "outputs": [],
   "source": [
    "matriz = [\n",
    "    [1,2,3],\n",
    "    [4,5,6],\n",
    "    [7,8,9]\n",
    "]\n",
    "\n",
    "print(matriz[1][2], \"\\n\")\n",
    "\n",
    "for row in matriz:\n",
    "    for numero in row:\n",
    "        print(numero)"
   ]
  },
  {
   "cell_type": "markdown",
   "metadata": {},
   "source": [
    "### Ejemplos\n",
    "\n",
    "\n",
    "Return the \"centered\" average of an array of ints, which we'll say is the mean average of the values, except ignoring the largest and smallest values in the array. If there are multiple copies of the smallest value, ignore just one copy, and likewise for the largest value. Use int division to produce the final average. You may assume that the array is length 3 or more."
   ]
  },
  {
   "cell_type": "code",
   "execution_count": null,
   "metadata": {},
   "outputs": [],
   "source": [
    "def centered_average(nums):\n",
    "  mini= nums[0]\n",
    "  maxi = nums[0]\n",
    "  for i in nums:\n",
    "    if i < mini:\n",
    "      mini = i\n",
    "    if i > maxi:\n",
    "      maxi = i\n",
    "  suma = 0\n",
    "  longitud = len(nums)-2\n",
    "  for i in nums:\n",
    "    suma += i\n",
    "  return int((suma - mini - maxi)/longitud)\n",
    "\n",
    "nums = [1000, 0, 1, 99]\n",
    "print(centered_average(nums))"
   ]
  },
  {
   "cell_type": "markdown",
   "metadata": {},
   "source": [
    "\n",
    "Return the sum of the numbers in the array, except ignore sections of numbers starting with a 6 and extending to the next 7 (every 6 will be followed by at least one 7). Return 0 for no numbers."
   ]
  },
  {
   "cell_type": "code",
   "execution_count": null,
   "metadata": {},
   "outputs": [],
   "source": [
    "def sum67(nums):\n",
    "  suma = 0\n",
    "  cond = True\n",
    "  for i in range(len(nums)):\n",
    "    if nums[i] == 6:\n",
    "      cond = False\n",
    "    elif cond == False and nums[i] == 7:\n",
    "      cond = True\n",
    "    elif cond == True:\n",
    "      suma += nums[i]\n",
    "  return suma\n",
    "\n",
    "numeros = [1, 2, 2, 6, 99, 99, 7]\n",
    "print(sum67(numeros))"
   ]
  },
  {
   "cell_type": "markdown",
   "metadata": {},
   "source": [
    "### Metodos en listas"
   ]
  },
  {
   "cell_type": "code",
   "execution_count": null,
   "metadata": {},
   "outputs": [],
   "source": [
    "numbers = [5,2,1,7,4]\n",
    "\n",
    "\n",
    "numbers.append(20)        # agrega 20 a la lista\n",
    "numbers.insert(0,10)    # inserta un 10 en el indice 0\n",
    "numbers2 = numbers.copy()     #hace una copia de la lista numbers\n",
    "print(numbers)\n",
    "print (numbers2)\n",
    "\n",
    "numbers.remove(4)\n",
    "print(numbers)\n",
    "print(numbers.index(7))          #da el numero de indice del argumento en la lista\n",
    "print(numbers.count(5))          #cuenta el numero de ocurrrencia del argumento en la lista\n",
    "\n",
    "\n"
   ]
  },
  {
   "cell_type": "markdown",
   "metadata": {},
   "source": [
    "El método pop() regresa el objeto actual en el indice del argumento, luego este objeto es removido de la lista.\n",
    "Por ejemplo\n",
    "\n",
    " > a = [0,1,2,3,4,5,6,7]\n",
    "\n",
    " for i in range(3):\n",
    "\n",
    "    a.pop(i)\n",
    "\n",
    " print(a) \n",
    "\n",
    "regresa \n",
    "\n",
    "> a = [1,3,5,6,7]"
   ]
  },
  {
   "cell_type": "markdown",
   "metadata": {},
   "source": [
    "### 11o ejercicio \n"
   ]
  },
  {
   "cell_type": "code",
   "execution_count": null,
   "metadata": {},
   "outputs": [],
   "source": [
    "# programa que borra los numeros duplicados en una lista\n",
    "\n",
    "lista = [1,2,3,1,4,2,5,6,9,7,6,8,4,8,9,9,9,10]\n",
    "unicos =[]\n",
    "\n",
    "for num in lista:\n",
    "    if num not in unicos:\n",
    "        unicos.append(num)\n",
    "print(unicos)\n",
    "    "
   ]
  },
  {
   "cell_type": "markdown",
   "metadata": {},
   "source": [
    "### Ejemplos\n",
    "\n",
    "\n",
    "Given an array of ints, return True if the sequence of numbers 1, 2, 3 appears in the array somewhere."
   ]
  },
  {
   "cell_type": "code",
   "execution_count": null,
   "metadata": {},
   "outputs": [],
   "source": [
    "def array123(nums):\n",
    "    for i in range(len(nums)-2):\n",
    "        if nums[i]==1 and nums[i+1]==2 and nums[i+2]==3:\n",
    "            return True\n",
    "    return False\n",
    "\n",
    "lista1 = [1,3,5,11,2,3,6,7,1,2,3,5,7]\n",
    "print(array123(lista1))"
   ]
  },
  {
   "cell_type": "markdown",
   "metadata": {},
   "source": [
    "\n",
    "Given two strings, return True if either of the strings appears at the very end of the other string, ignoring upper/lower case differences (in other words, the computation should not be \"case sensitive\"). Note: s.lower() returns the lowercase version of a string.\n",
    "\n",
    "-El método endswith() devuelve True si su primer argumento coincide con la última parte de la cadena."
   ]
  },
  {
   "cell_type": "code",
   "execution_count": null,
   "metadata": {
    "scrolled": true
   },
   "outputs": [],
   "source": [
    "def end_other(a, b):\n",
    "  long_s, short_s = (a,b) if len(a) > len(b) else (b,a)\n",
    "  return long_s.lower().endswith(short_s.lower())\n",
    "\n",
    "print(end_other(\"abc\", \"asdljlqkwjelabc\"))\n",
    "\n",
    "'''Otra solucion:\n",
    "def end_other(a, b):\n",
    "  a = a.lower()\n",
    "  b = b.lower()\n",
    "  return (b.endswith(a) or a.endswith(b))'''\n"
   ]
  },
  {
   "cell_type": "markdown",
   "metadata": {},
   "source": [
    "## Tuplas (o Sets): (...)\n",
    "\n",
    "Son inmutables, a diferencia de las listas."
   ]
  },
  {
   "cell_type": "code",
   "execution_count": null,
   "metadata": {},
   "outputs": [],
   "source": [
    "coordenadas = (1,5,2)\n",
    "x = coordenadas[0]\n",
    "y = coordenadas[1]\n",
    "z = coordenadas[2]\n",
    "\n",
    "print(x+y) \n",
    "\n",
    "#La mejor manera de definir esto es:\n",
    "x, y, z = coordenadas\n",
    "\n",
    "print(y+z)"
   ]
  },
  {
   "cell_type": "markdown",
   "metadata": {},
   "source": [
    "## Diccionarios: {...}\n",
    "\n",
    "Mutable y debe contener una llave (key) única y un valor: {\"key\": valor}\n",
    "\n",
    "Metodos: get(), split()"
   ]
  },
  {
   "cell_type": "code",
   "execution_count": null,
   "metadata": {},
   "outputs": [],
   "source": [
    "customer = {\n",
    "    \"name\": \"Jhon Smith\",\n",
    "    \"age\": 30,\n",
    "    \"is_verified\": True\n",
    "}\n",
    "\n",
    "print(customer[\"name\"])\n",
    "print(customer.get(\"birthdate\", \"30-jun-1992\"))\n",
    "customer[\"name\"] = \"Ivan\"           #aqui actualicé el nombre\n",
    "customer[\"nacimiento\"] = \"30jun1992\"      #aqui agregué un elemento al diccionario\n",
    "print(customer)\n"
   ]
  },
  {
   "cell_type": "markdown",
   "metadata": {},
   "source": [
    "### 12o ejercicio"
   ]
  },
  {
   "cell_type": "code",
   "execution_count": null,
   "metadata": {},
   "outputs": [],
   "source": [
    "# Programa que al digitar numeros regresa el nombre de cada uno, uno por uno.\n",
    "numeros_letras = {\"0\":\"cero\", \"1\":\"uno\",\"2\":\"dos\", \"3\":\"tres\", \"4\":\"cuatro\", \"5\":\"cinco\",\n",
    "                 \"6\":\"seis\", \"7\":\"siete\", \"8\":\"ocho\", \"9\":\"nueve\"}\n",
    "\n",
    "salida =\"\"\n",
    "\n",
    "numero = input(\"Digite uno o varios numeros: \")\n",
    "\n",
    "for num in numero:\n",
    "    salida += numeros_letras.get(num, \"L\") + \" \"\n",
    "print(salida)"
   ]
  },
  {
   "cell_type": "code",
   "execution_count": null,
   "metadata": {},
   "outputs": [],
   "source": [
    "message = input(\">\")\n",
    "words = message.split(\" \")\n",
    "emojis = {\n",
    "    \":)\":\"n.n\",\n",
    "    \":(\":\"u.u\"\n",
    "}\n",
    "\n",
    "output = \"\"\n",
    "for word in words:\n",
    "    output += emojis.get(word,word) + \" \"\n",
    "print(output)\n",
    "    "
   ]
  },
  {
   "cell_type": "markdown",
   "metadata": {},
   "source": [
    "## Funciones\n",
    "\n",
    "Argumento posicional (args) y argumentos clave (keyword arguments, kwargs).\n",
    "\n",
    "- Los argumentos posicionales SIEMPRE deben ir antes de los keywords, sino habrá un error.\n",
    "- Las funciones sin un \"return\" por default regresarán None."
   ]
  },
  {
   "cell_type": "code",
   "execution_count": null,
   "metadata": {},
   "outputs": [],
   "source": [
    "def saludo(nombre, apellido):\n",
    "    print(f\"Hola {nombre} {apellido}\", \"bienvenido\", sep= \"\\n\")\n",
    "\n",
    "    \n",
    "print(\"Start\")\n",
    "saludo(apellido = \"vazquez\",nombre= \"ivan\")         #aquí los argumentos son \"keyword arguent\" por lo que el orden no importa.\n",
    "# EJEMPLO : calcular_costo(total = 50, envio= 5, descuento = 0.1)   ejemplo de la utilidad de kyword arguments\n",
    "print(\"Finish\")"
   ]
  },
  {
   "cell_type": "code",
   "execution_count": null,
   "metadata": {},
   "outputs": [],
   "source": [
    "# Funcion que regresa el cuadrado de un numero.\n",
    "def square(numero):\n",
    "    return numero*numero\n",
    "\n",
    "print(square(2))"
   ]
  },
  {
   "cell_type": "code",
   "execution_count": null,
   "metadata": {},
   "outputs": [],
   "source": [
    "# Funcion que regresa caracteres como emojis\n",
    "\n",
    "def palabra_emojis(message):\n",
    "    words = message.split(\" \")\n",
    "    emojis = {\n",
    "    \":)\":\"n.n\",\n",
    "    \":(\":\"u.u\"\n",
    "    }\n",
    "\n",
    "    output = \"\"\n",
    "    for word in words:\n",
    "        output += emojis.get(word,word) + \" \"\n",
    "    return output\n",
    "\n",
    "\n",
    "message = input(\">\")\n",
    "print(palabra_emojis(message))\n"
   ]
  },
  {
   "cell_type": "markdown",
   "metadata": {},
   "source": [
    "## EXTRA: Funciones lambda\n",
    "\n",
    "Son funciones anónimas usadas cuando se pasa una función sencilla como argumento de otra función , por ejemplo:\n",
    "___\n",
    "\n",
    "<code>def my_func(f, arg):\n",
    "    return f(arg)\n",
    "    \n",
    "my_func(lambda x: 2*x*x, 5) </code>\n",
    "\n",
    "___\n"
   ]
  },
  {
   "cell_type": "markdown",
   "metadata": {},
   "source": [
    "## Excepciones\n",
    "\n",
    "- try except: para manejar errores. "
   ]
  },
  {
   "cell_type": "code",
   "execution_count": null,
   "metadata": {},
   "outputs": [],
   "source": [
    "try:\n",
    "    age = int(input(\"Age: \"))\n",
    "    income = 20000\n",
    "    risk = income / age\n",
    "    print(age)\n",
    "except ValueError:\n",
    "    print(\"Valor invalido\")\n",
    "except ZeroDivisionError:\n",
    "    print(\"La edad no puede ser cero\")\n",
    "    \n"
   ]
  },
  {
   "cell_type": "markdown",
   "metadata": {},
   "source": [
    "## Clases"
   ]
  },
  {
   "cell_type": "code",
   "execution_count": null,
   "metadata": {},
   "outputs": [],
   "source": [
    "class Point:\n",
    "    def move(self):\n",
    "        print(\"move\")\n",
    "    \n",
    "    def draw(self):\n",
    "        print(\"draw\")\n",
    "\n",
    "\n",
    "punto1 = Point()\n",
    "punto1.draw()"
   ]
  },
  {
   "cell_type": "markdown",
   "metadata": {},
   "source": [
    "### 13o ejercicio\n"
   ]
  },
  {
   "cell_type": "code",
   "execution_count": null,
   "metadata": {},
   "outputs": [],
   "source": [
    "class Person:\n",
    "    def __init__(self, name):\n",
    "        self.name = name \n",
    "        \n",
    "    def talk(self):\n",
    "        print(f\"Hi, my name is {self.name}\")\n",
    "        \n",
    "    def nombre(self):\n",
    "        print(f\"{self.name}\")\n",
    "\n",
    "ale = Person(\"Ale Hernandez\")\n",
    "print(ale.nombre(), ale.talk(), sep=\"\\n\")"
   ]
  },
  {
   "cell_type": "markdown",
   "metadata": {},
   "source": [
    "## Inheritance (herencia)"
   ]
  },
  {
   "cell_type": "code",
   "execution_count": null,
   "metadata": {},
   "outputs": [],
   "source": [
    "class Mammal:\n",
    "    def walk(self):\n",
    "        print(\"walk\")\n",
    "    def bark(self):\n",
    "        print(\"bark\")\n",
    "\n",
    "        \n",
    "class Dog(Mammal):\n",
    "    pass\n",
    "\n",
    "\n",
    "class Cat(Mammal):\n",
    "    def be_annoying(self):\n",
    "        print(\"annoying\")\n",
    "    \n",
    "\n",
    "dog1 =Dog()\n",
    "dog1.walk()\n",
    "dog1.bark()\n",
    "cat1 =Cat()\n",
    "cat1.be_annoying()\n"
   ]
  },
  {
   "cell_type": "markdown",
   "metadata": {},
   "source": [
    "## Importar modulos\n",
    "\n",
    "Para esto se necesita usar los siguientes comandos y luego crear una variable de entorno PYTHONPATH donde se guardaran los modulos.py y poder importar aquí.\n",
    "\n",
    "- Podemos importar FUNCIONES dentro de MODULOS como sigue: from [nombre_del_paquete].[nombre_del_modulo] import [nombre_de_funcion] . De esta manera podemos usar esa funcion dentro del programa cuantas veces queramos. De la misma manera podemos importar Clases dentro de un modulo en especifico.\n",
    "\n",
    "- Tambien podemos importar por completo el modulo por lo que podemos usar todas sus funciones: from [nombre_del_paquete] import [nombre_del_modulo] . Luego para acceder a cualquier funcion del modulo escribimos: [nombre_del_modulo].[funcion]\n",
    "\n",
    "- Todo paquete debe llevar un archivo vacio \"__init__.py\" que es el archivo especial (constructor) para que python sepa que es un paquete.\n"
   ]
  },
  {
   "cell_type": "code",
   "execution_count": null,
   "metadata": {},
   "outputs": [],
   "source": [
    "import sys"
   ]
  },
  {
   "cell_type": "code",
   "execution_count": null,
   "metadata": {
    "scrolled": true
   },
   "outputs": [],
   "source": [
    "sys.path          #python_archivos es la carpeta donde guardo mis archivos .py"
   ]
  },
  {
   "cell_type": "markdown",
   "metadata": {},
   "source": [
    "### Convertidor.py\n",
    "\n"
   ]
  },
  {
   "cell_type": "code",
   "execution_count": null,
   "metadata": {},
   "outputs": [],
   "source": [
    "def lbs_to_kg(weight):\n",
    "    return weight * 0.45\n",
    "\n",
    "\n",
    "def kg_to_lbs(weigth):\n",
    "    return weigth / 0.45\n",
    "\n"
   ]
  },
  {
   "cell_type": "code",
   "execution_count": null,
   "metadata": {},
   "outputs": [],
   "source": [
    "from convertidor import kg_to_lbs\n",
    "\n",
    "kg_to_lbs(5)      "
   ]
  },
  {
   "cell_type": "markdown",
   "metadata": {},
   "source": [
    "### Ejercicio\n"
   ]
  },
  {
   "cell_type": "code",
   "execution_count": null,
   "metadata": {},
   "outputs": [],
   "source": [
    "import utils\n",
    "\n",
    "lista = [1,4,6,1,7,10]\n",
    "maximo = utils.find_max(lista)\n",
    "minimo = utils.find_min(lista)\n",
    "\n",
    "print(maximo)\n",
    "print(minimo)"
   ]
  },
  {
   "cell_type": "markdown",
   "metadata": {},
   "source": [
    "## Generando valores aleatorios"
   ]
  },
  {
   "cell_type": "code",
   "execution_count": null,
   "metadata": {},
   "outputs": [],
   "source": [
    "import random\n",
    "\n",
    "for i in range(3):\n",
    "    print(random.randint(0, 20))"
   ]
  },
  {
   "cell_type": "code",
   "execution_count": null,
   "metadata": {},
   "outputs": [],
   "source": [
    "#Programa que regresa una tupla con valores aleatorios enteros del 1 al 6.\n",
    "import random\n",
    "\n",
    "\n",
    "class Dice():\n",
    "    def __init__(self):\n",
    "        pass\n",
    "    \n",
    "    def roll(self):\n",
    "        x = random.randint(1,6)\n",
    "        y = random.randint(1,6)\n",
    "        return (x, y)\n",
    "\n",
    "        \n",
    "dado = Dice()\n",
    "\n",
    "tupla = dado.roll()\n",
    "print(tupla)"
   ]
  },
  {
   "cell_type": "markdown",
   "metadata": {},
   "source": [
    "# FIN\n",
    "\n",
    "### De aquí en adelante NO me basaré en el curso de Mosh...\n",
    "\n",
    "## File objects - Lectura y escritura de archivos\n",
    "\n",
    "https://www.youtube.com/watch?v=Uh2ebFW8OYM&ab_channel=\n",
    "\n",
    "Funciones:\n",
    "\n",
    "open()\n",
    "\n",
    "Métodos:\n",
    "\n",
    "close()\n",
    "\n",
    "tell()\n",
    "\n",
    "seek()"
   ]
  },
  {
   "cell_type": "code",
   "execution_count": null,
   "metadata": {},
   "outputs": [],
   "source": [
    "#Abrir un archivo:\n",
    "# file_object = open(file_name [, access_mode][, buffering])\n",
    "# donde access_mode se refiere al modo en que queremos abrir el archivo:\n",
    "# r - lectura , w - escritura , a - append (adjuntar texto), etc...\n",
    "# r+, w+ - ambos sirven para lectura y escritura\n",
    "# a+ - sirve para añadir texto y lectura. El apuntador empieza al final del archivo si es que este existe. \n",
    "\n",
    "# f = open('test.txt', 'r')\n",
    "\n",
    "# Para evitar problemas con los programas es preferible abrir archivos \n",
    "# usando el \"context manager\":\n",
    "\n",
    "#primero creo el archivo de texto:\n",
    "with open(\"test.txt\", \"w\") as wf:\n",
    "    wf.write(\"Esto es un archivo creado con Pyhton: \\n 1) uno \\n 2)dos \\n 3)tres \\n ------------\")\n",
    "    wf.write(\"Esta es una linea de pruena :) \\n es para practicar...   1 2 3 \\n a\")\n",
    "wf.close()   \n",
    "\n",
    "contador = 0  #quiero contar el numero de cadenas en el archivo...\n",
    "cadenapalabras = \"\"\n",
    "frecuenciapalabras = []\n",
    "\n",
    "with open(\"test.txt\", \"r\") as rf:\n",
    "    with open(\"test_copy.txt\", \"w\") as wf:\n",
    "        wf.write(\"Esto es una copia del archivo test.txt \\n\")\n",
    "        for word in rf:\n",
    "            wf.write(word)\n",
    "            cadenapalabras += word\n",
    "            \n",
    "\n",
    "listapalabras = cadenapalabras.split()\n",
    "\n",
    "for word in listapalabras:\n",
    "    frecuenciapalabras.append(listapalabras.count(word))\n",
    "\n",
    "\n",
    "print(listapalabras, \"\\n\")\n",
    "\n",
    "print(frecuenciapalabras, \"\\n\")\n",
    "listaTuplas = str(list(zip(listapalabras, frecuenciapalabras)))\n",
    "\n",
    "\n",
    "print(\"Pares: \\n\" + listaTuplas)\n",
    "\n",
    "rf.close()\n",
    "wf.close()\n",
    "    \n",
    "#correos = \"\"\n",
    "#for i in range(27):\n",
    "#    correos += \"ivancloudvm\" + str(i) + \"@gmail.com \\n\"\n",
    "#print(correos)\n",
    "\n",
    "\n",
    "\n"
   ]
  },
  {
   "cell_type": "code",
   "execution_count": null,
   "metadata": {},
   "outputs": [],
   "source": [
    "import numpy as np\n",
    "import matplotlib.pyplot as plt\n",
    "\n",
    "#no entiendo por que sí funciona con la siguiente lista:\n",
    "example_list = [('dhr', 17838), ('mw', 13675), ('wel', 5499), ('goed', 5080), \n",
    "                ('contact', 4506), ('medicatie', 3797), ('uur', 3792),\n",
    "                ('gaan', 3473), ('kwam', 3463), ('kamer', 3447), \n",
    "                ('mee', 3278), ('gesprek', 2978)] \n",
    "\n",
    "#con esta no funciona:\n",
    "lista_Tuplas = [('Esto', 1), ('es', 3), ('un', 1), ('archivo', 1), ('creado', 1),\n",
    "               ('con', 1), ('Pyhton:', 1), ('1)', 1), ('uno', 1), ('2)dos', 1), ('3)tres', 1),\n",
    "               ('------------Esta', 1), ('es', 3), ('una', 1), ('linea', 1), ('de', 1), ('pruena', 1), \n",
    "               (':)', 1), ('es', 3), ('para', 1), ('practicar...', 1), ('1', 1), ('2', 1), ('3', 1), ('a', 1)]\n",
    "word = []\n",
    "frequency = []\n",
    "\n",
    "for i in range(len(example_list)):\n",
    "  word.append(example_list[i][0])\n",
    "  frequency.append(example_list[i][1])\n",
    "\n",
    "indices = np.arange(len(example_list))\n",
    "plt.bar(indices, frequency, color='r')\n",
    "plt.xticks(indices, word, rotation='vertical')\n",
    "plt.tight_layout()\n",
    "plt.show()"
   ]
  },
  {
   "cell_type": "code",
   "execution_count": null,
   "metadata": {},
   "outputs": [],
   "source": []
  }
 ],
 "metadata": {
  "kernelspec": {
   "display_name": "Python 3",
   "language": "python",
   "name": "python3"
  },
  "language_info": {
   "codemirror_mode": {
    "name": "ipython",
    "version": 3
   },
   "file_extension": ".py",
   "mimetype": "text/x-python",
   "name": "python",
   "nbconvert_exporter": "python",
   "pygments_lexer": "ipython3",
   "version": "3.7.6"
  }
 },
 "nbformat": 4,
 "nbformat_minor": 4
}
