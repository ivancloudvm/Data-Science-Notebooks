{
 "cells": [
  {
   "cell_type": "markdown",
   "metadata": {},
   "source": [
    "ivancloudvm@gmail.com\n",
    "\n",
    "# Libreria BeautifulSoup - [Youtube- Keith tutorial](\"https://www.youtube.com/watch?v=GjKQ6V_ViQE&ab_channel=KeithGalli\")\n",
    "\n",
    "\n",
    "Cargamos las librerias necesarias:\n"
   ]
  },
  {
   "cell_type": "code",
   "execution_count": 1,
   "metadata": {},
   "outputs": [],
   "source": [
    "import requests\n",
    "import pandas as pd\n",
    "from bs4 import BeautifulSoup as bs"
   ]
  },
  {
   "cell_type": "markdown",
   "metadata": {},
   "source": [
    "Cargamos la página web:"
   ]
  },
  {
   "cell_type": "code",
   "execution_count": 2,
   "metadata": {},
   "outputs": [
    {
     "name": "stdout",
     "output_type": "stream",
     "text": [
      "<html>\n",
      "<head>\n",
      "<title>HTML Example</title>\n",
      "</head>\n",
      "<body>\n",
      "<div align=\"middle\">\n",
      "<h1>HTML Webpage</h1>\n",
      "<p>Link to more interesting example: <a href=\"https://keithgalli.github.io/web-scraping/webpage.html\">keithgalli.github.io/web-scraping/webpage.html</a></p>\n",
      "</div>\n",
      "<h2>A Header</h2>\n",
      "<p><i>Some italicized text</i></p>\n",
      "<h2>Another header</h2>\n",
      "<p id=\"paragraph-id\"><b>Some bold text</b></p>\n",
      "</body>\n",
      "</html>\n",
      "\n"
     ]
    }
   ],
   "source": [
    "#contenido de la pagina:\n",
    "r = requests.get(\"https://keithgalli.github.io/web-scraping/example.html\")\n",
    "\n",
    "#beautifulsoup object:\n",
    "soup = bs(r.content)\n",
    "\n",
    "print(soup)"
   ]
  },
  {
   "cell_type": "markdown",
   "metadata": {},
   "source": [
    "Para que se vea indentado:"
   ]
  },
  {
   "cell_type": "code",
   "execution_count": 3,
   "metadata": {},
   "outputs": [
    {
     "name": "stdout",
     "output_type": "stream",
     "text": [
      "<html>\n",
      " <head>\n",
      "  <title>\n",
      "   HTML Example\n",
      "  </title>\n",
      " </head>\n",
      " <body>\n",
      "  <div align=\"middle\">\n",
      "   <h1>\n",
      "    HTML Webpage\n",
      "   </h1>\n",
      "   <p>\n",
      "    Link to more interesting example:\n",
      "    <a href=\"https://keithgalli.github.io/web-scraping/webpage.html\">\n",
      "     keithgalli.github.io/web-scraping/webpage.html\n",
      "    </a>\n",
      "   </p>\n",
      "  </div>\n",
      "  <h2>\n",
      "   A Header\n",
      "  </h2>\n",
      "  <p>\n",
      "   <i>\n",
      "    Some italicized text\n",
      "   </i>\n",
      "  </p>\n",
      "  <h2>\n",
      "   Another header\n",
      "  </h2>\n",
      "  <p id=\"paragraph-id\">\n",
      "   <b>\n",
      "    Some bold text\n",
      "   </b>\n",
      "  </p>\n",
      " </body>\n",
      "</html>\n",
      "\n"
     ]
    }
   ],
   "source": [
    "print(soup.prettify())"
   ]
  },
  {
   "cell_type": "markdown",
   "metadata": {},
   "source": [
    "## Metodos find y find_all"
   ]
  },
  {
   "cell_type": "code",
   "execution_count": 4,
   "metadata": {},
   "outputs": [
    {
     "name": "stdout",
     "output_type": "stream",
     "text": [
      "[<h2>A Header</h2>, <h2>Another header</h2>]\n"
     ]
    }
   ],
   "source": [
    "#encuentra el primer \"h2\" en el objeto soup:\n",
    "first_header = soup.find(\"h2\")\n",
    "\n",
    "#find_all regresa una lista de todas las strings que coinciden con el argumento:\n",
    "headers = soup.find_all(\"h2\")\n",
    "print(headers)"
   ]
  },
  {
   "cell_type": "code",
   "execution_count": 5,
   "metadata": {},
   "outputs": [
    {
     "data": {
      "text/plain": [
       "<h1>HTML Webpage</h1>"
      ]
     },
     "execution_count": 5,
     "metadata": {},
     "output_type": "execute_result"
    }
   ],
   "source": [
    "#Podemos incluir una lista de elementos a encontrar:\n",
    "first_header= soup.find([\"h1\",\"h2\"]) #solo encontrara la primer coincidencia\n",
    "first_header"
   ]
  },
  {
   "cell_type": "code",
   "execution_count": 6,
   "metadata": {},
   "outputs": [
    {
     "data": {
      "text/plain": [
       "[<h1>HTML Webpage</h1>, <h2>A Header</h2>, <h2>Another header</h2>]"
      ]
     },
     "execution_count": 6,
     "metadata": {},
     "output_type": "execute_result"
    }
   ],
   "source": [
    "#encuentra todas las coincidencias:\n",
    "headers = soup.find_all([\"h1\",\"h2\"])\n",
    "headers"
   ]
  },
  {
   "cell_type": "markdown",
   "metadata": {},
   "source": [
    "Podemos agregar atributos a los metodos find y find_all:"
   ]
  },
  {
   "cell_type": "code",
   "execution_count": 7,
   "metadata": {},
   "outputs": [
    {
     "data": {
      "text/plain": [
       "[<p>Link to more interesting example: <a href=\"https://keithgalli.github.io/web-scraping/webpage.html\">keithgalli.github.io/web-scraping/webpage.html</a></p>,\n",
       " <p><i>Some italicized text</i></p>,\n",
       " <p id=\"paragraph-id\"><b>Some bold text</b></p>]"
      ]
     },
     "execution_count": 7,
     "metadata": {},
     "output_type": "execute_result"
    }
   ],
   "source": [
    "paragraph = soup.find_all(\"p\")\n",
    "\n",
    "paragraph"
   ]
  },
  {
   "cell_type": "markdown",
   "metadata": {},
   "source": [
    "Podemos especificar usando diccionario:"
   ]
  },
  {
   "cell_type": "code",
   "execution_count": 8,
   "metadata": {},
   "outputs": [
    {
     "data": {
      "text/plain": [
       "[<p id=\"paragraph-id\"><b>Some bold text</b></p>]"
      ]
     },
     "execution_count": 8,
     "metadata": {},
     "output_type": "execute_result"
    }
   ],
   "source": [
    "paragraph = soup.find_all(\"p\",attrs={\"id\":\"paragraph-id\"})\n",
    "\n",
    "paragraph"
   ]
  },
  {
   "cell_type": "markdown",
   "metadata": {},
   "source": [
    "Podemos usar find dentro de otro find:"
   ]
  },
  {
   "cell_type": "code",
   "execution_count": 9,
   "metadata": {},
   "outputs": [
    {
     "data": {
      "text/plain": [
       "<h1>HTML Webpage</h1>"
      ]
     },
     "execution_count": 9,
     "metadata": {},
     "output_type": "execute_result"
    }
   ],
   "source": [
    "body = soup.find(\"body\")\n",
    "\n",
    "div = body.find(\"div\")\n",
    "\n",
    "header = div.find(\"h1\")\n",
    "\n",
    "header"
   ]
  },
  {
   "cell_type": "markdown",
   "metadata": {},
   "source": [
    "Podemos ser más especificos con lo que buscamos y usar regex:"
   ]
  },
  {
   "cell_type": "code",
   "execution_count": 10,
   "metadata": {},
   "outputs": [
    {
     "data": {
      "text/plain": [
       "[<h2>A Header</h2>, <h2>Another header</h2>]"
      ]
     },
     "execution_count": 10,
     "metadata": {},
     "output_type": "execute_result"
    }
   ],
   "source": [
    "import re\n",
    "\n",
    "paragraphs = soup.find_all(\"p\", string = re.compile(\"Some\"))\n",
    "\n",
    "paragraphs\n",
    "\n",
    "#usamos regex:\n",
    "headers = soup.find_all(\"h2\", string = re.compile(\"(H|h)eader\"))\n",
    "\n",
    "headers"
   ]
  },
  {
   "cell_type": "markdown",
   "metadata": {},
   "source": [
    " ## Metodo select"
   ]
  },
  {
   "cell_type": "code",
   "execution_count": 11,
   "metadata": {
    "scrolled": false
   },
   "outputs": [
    {
     "name": "stdout",
     "output_type": "stream",
     "text": [
      "<body>\n",
      " <div align=\"middle\">\n",
      "  <h1>\n",
      "   HTML Webpage\n",
      "  </h1>\n",
      "  <p>\n",
      "   Link to more interesting example:\n",
      "   <a href=\"https://keithgalli.github.io/web-scraping/webpage.html\">\n",
      "    keithgalli.github.io/web-scraping/webpage.html\n",
      "   </a>\n",
      "  </p>\n",
      " </div>\n",
      " <h2>\n",
      "  A Header\n",
      " </h2>\n",
      " <p>\n",
      "  <i>\n",
      "   Some italicized text\n",
      "  </i>\n",
      " </p>\n",
      " <h2>\n",
      "  Another header\n",
      " </h2>\n",
      " <p id=\"paragraph-id\">\n",
      "  <b>\n",
      "   Some bold text\n",
      "  </b>\n",
      " </p>\n",
      "</body>\n",
      "\n"
     ]
    }
   ],
   "source": [
    "print(soup.body.prettify())"
   ]
  },
  {
   "cell_type": "code",
   "execution_count": 12,
   "metadata": {},
   "outputs": [
    {
     "data": {
      "text/plain": [
       "[<p>Link to more interesting example: <a href=\"https://keithgalli.github.io/web-scraping/webpage.html\">keithgalli.github.io/web-scraping/webpage.html</a></p>]"
      ]
     },
     "execution_count": 12,
     "metadata": {},
     "output_type": "execute_result"
    }
   ],
   "source": [
    "content = soup.select(\"div p\")\n",
    "content "
   ]
  },
  {
   "cell_type": "code",
   "execution_count": 13,
   "metadata": {},
   "outputs": [
    {
     "data": {
      "text/plain": [
       "[<p><i>Some italicized text</i></p>,\n",
       " <p id=\"paragraph-id\"><b>Some bold text</b></p>]"
      ]
     },
     "execution_count": 13,
     "metadata": {},
     "output_type": "execute_result"
    }
   ],
   "source": [
    "paragraphs = soup.select(\"h2 ~ p\")\n",
    "\n",
    "paragraphs"
   ]
  },
  {
   "cell_type": "code",
   "execution_count": 14,
   "metadata": {},
   "outputs": [
    {
     "data": {
      "text/plain": [
       "[<b>Some bold text</b>]"
      ]
     },
     "execution_count": 14,
     "metadata": {},
     "output_type": "execute_result"
    }
   ],
   "source": [
    "bold_text = soup.select(\"p#paragraph-id b\")\n",
    "\n",
    "bold_text"
   ]
  },
  {
   "cell_type": "code",
   "execution_count": 15,
   "metadata": {},
   "outputs": [
    {
     "data": {
      "text/plain": [
       "[<p><i>Some italicized text</i></p>,\n",
       " <p id=\"paragraph-id\"><b>Some bold text</b></p>]"
      ]
     },
     "execution_count": 15,
     "metadata": {},
     "output_type": "execute_result"
    }
   ],
   "source": [
    "paragraph = soup.select(\"body > p\")\n",
    "\n",
    "paragraph"
   ]
  },
  {
   "cell_type": "code",
   "execution_count": 16,
   "metadata": {},
   "outputs": [
    {
     "name": "stdout",
     "output_type": "stream",
     "text": [
      "[<i>Some italicized text</i>]\n",
      "[]\n"
     ]
    }
   ],
   "source": [
    "for paragraph in paragraphs:\n",
    "    print(paragraph.select(\"i\"))"
   ]
  },
  {
   "cell_type": "code",
   "execution_count": 17,
   "metadata": {},
   "outputs": [
    {
     "data": {
      "text/plain": [
       "[<div align=\"middle\">\n",
       " <h1>HTML Webpage</h1>\n",
       " <p>Link to more interesting example: <a href=\"https://keithgalli.github.io/web-scraping/webpage.html\">keithgalli.github.io/web-scraping/webpage.html</a></p>\n",
       " </div>]"
      ]
     },
     "execution_count": 17,
     "metadata": {},
     "output_type": "execute_result"
    }
   ],
   "source": [
    "#seleccionar un elemento con una propiedad en especifico:\n",
    "soup.select(\"[align=middle]\")"
   ]
  },
  {
   "cell_type": "markdown",
   "metadata": {},
   "source": [
    "## Obtener diferentes propiedades del HTML\n",
    "\n",
    "- string\n",
    "\n",
    "- get_text()\n"
   ]
  },
  {
   "cell_type": "code",
   "execution_count": 18,
   "metadata": {},
   "outputs": [
    {
     "data": {
      "text/plain": [
       "'A Header'"
      ]
     },
     "execution_count": 18,
     "metadata": {},
     "output_type": "execute_result"
    }
   ],
   "source": [
    "header = soup.find(\"h2\")\n",
    "\n",
    "header.string"
   ]
  },
  {
   "cell_type": "code",
   "execution_count": 19,
   "metadata": {},
   "outputs": [
    {
     "name": "stdout",
     "output_type": "stream",
     "text": [
      "<div align=\"middle\">\n",
      " <h1>\n",
      "  HTML Webpage\n",
      " </h1>\n",
      " <p>\n",
      "  Link to more interesting example:\n",
      "  <a href=\"https://keithgalli.github.io/web-scraping/webpage.html\">\n",
      "   keithgalli.github.io/web-scraping/webpage.html\n",
      "  </a>\n",
      " </p>\n",
      "</div>\n",
      "\n"
     ]
    }
   ],
   "source": [
    "div = soup.find(\"div\")\n",
    "print(div.prettify())"
   ]
  },
  {
   "cell_type": "code",
   "execution_count": 20,
   "metadata": {},
   "outputs": [
    {
     "name": "stdout",
     "output_type": "stream",
     "text": [
      "\n",
      "HTML Webpage\n",
      "Link to more interesting example: keithgalli.github.io/web-scraping/webpage.html\n",
      "\n"
     ]
    }
   ],
   "source": [
    "# si hay multiples elementos \"child\" usar get_text()\n",
    "print(div.get_text())"
   ]
  },
  {
   "cell_type": "code",
   "execution_count": 21,
   "metadata": {},
   "outputs": [
    {
     "data": {
      "text/plain": [
       "'https://keithgalli.github.io/web-scraping/webpage.html'"
      ]
     },
     "execution_count": 21,
     "metadata": {},
     "output_type": "execute_result"
    }
   ],
   "source": [
    "#Obtener una propiedad especifica de un elemento:\n",
    "link = soup.find(\"a\")[\"href\"]\n",
    "\n",
    "link"
   ]
  },
  {
   "cell_type": "code",
   "execution_count": 22,
   "metadata": {},
   "outputs": [
    {
     "data": {
      "text/plain": [
       "'paragraph-id'"
      ]
     },
     "execution_count": 22,
     "metadata": {},
     "output_type": "execute_result"
    }
   ],
   "source": [
    "paragraphs = soup.select(\"p#paragraph-id\")\n",
    "\n",
    "paragraphs[0][\"id\"]"
   ]
  },
  {
   "cell_type": "markdown",
   "metadata": {},
   "source": [
    "## Navegacion del codigo"
   ]
  },
  {
   "cell_type": "code",
   "execution_count": 23,
   "metadata": {},
   "outputs": [
    {
     "data": {
      "text/plain": [
       "'HTML Webpage'"
      ]
     },
     "execution_count": 23,
     "metadata": {},
     "output_type": "execute_result"
    }
   ],
   "source": [
    "#path syntax\n",
    "soup.body.div.h1.string"
   ]
  },
  {
   "cell_type": "code",
   "execution_count": 24,
   "metadata": {},
   "outputs": [
    {
     "name": "stdout",
     "output_type": "stream",
     "text": [
      "<body>\n",
      " <div align=\"middle\">\n",
      "  <h1>\n",
      "   HTML Webpage\n",
      "  </h1>\n",
      "  <p>\n",
      "   Link to more interesting example:\n",
      "   <a href=\"https://keithgalli.github.io/web-scraping/webpage.html\">\n",
      "    keithgalli.github.io/web-scraping/webpage.html\n",
      "   </a>\n",
      "  </p>\n",
      " </div>\n",
      " <h2>\n",
      "  A Header\n",
      " </h2>\n",
      " <p>\n",
      "  <i>\n",
      "   Some italicized text\n",
      "  </i>\n",
      " </p>\n",
      " <h2>\n",
      "  Another header\n",
      " </h2>\n",
      " <p id=\"paragraph-id\">\n",
      "  <b>\n",
      "   Some bold text\n",
      "  </b>\n",
      " </p>\n",
      "</body>\n",
      "\n"
     ]
    }
   ],
   "source": [
    "print(soup.body.prettify())"
   ]
  },
  {
   "cell_type": "code",
   "execution_count": 25,
   "metadata": {},
   "outputs": [
    {
     "data": {
      "text/plain": [
       "[<h2>A Header</h2>,\n",
       " <p><i>Some italicized text</i></p>,\n",
       " <h2>Another header</h2>,\n",
       " <p id=\"paragraph-id\"><b>Some bold text</b></p>]"
      ]
     },
     "execution_count": 25,
     "metadata": {},
     "output_type": "execute_result"
    }
   ],
   "source": [
    "#conocer los terminos \"parent\", \"sibling\" y \"child\"\n",
    "\n",
    "soup.body.find(\"div\").find_next_siblings()\n"
   ]
  },
  {
   "cell_type": "markdown",
   "metadata": {},
   "source": [
    "## Ejercicios\n",
    "\n",
    "https://keithgalli.github.io/web-scraping/webpage.html\n",
    "\n",
    "### Obtener todos los links de redes sociales de la pagina de 3 maneras distintas"
   ]
  },
  {
   "cell_type": "code",
   "execution_count": 35,
   "metadata": {},
   "outputs": [
    {
     "name": "stdout",
     "output_type": "stream",
     "text": [
      "<html>\n",
      " <head>\n",
      "  <title>\n",
      "   Keith Galli's Page\n",
      "  </title>\n",
      "  <style>\n",
      "   table {\n",
      "    border-collapse: collapse;\n",
      "  }\n",
      "  th {\n",
      "    padding:5px;\n",
      "  }\n",
      "  td {\n",
      "    border: 1px solid #ddd;\n",
      "    padding: 5px;\n",
      "  }\n",
      "  tr:nth-child(even) {\n",
      "    background-color: #f2f2f2;\n",
      "  }\n",
      "  th {\n",
      "    padding-top: 12px;\n",
      "    padding-bottom: 12px;\n",
      "    text-align: left;\n",
      "    background-color: #add8e6;\n",
      "    color: black;\n",
      "  }\n",
      "  .block {\n",
      "  width: 100px;\n",
      "  /*float: left;*/\n",
      "    display: inline-block;\n",
      "    zoom: 1;\n",
      "  }\n",
      "  .column {\n",
      "  float: left;\n",
      "  height: 200px;\n",
      "  /*width: 33.33%;*/\n",
      "  padding: 5px;\n",
      "  }\n",
      "\n",
      "  .row::after {\n",
      "    content: \"\";\n",
      "    clear: both;\n",
      "    display: table;\n",
      "  }\n",
      "  </style>\n",
      " </head>\n",
      " <body>\n",
      "  <h1>\n",
      "   Welcome to my page!\n",
      "  </h1>\n",
      "  <img src=\"./images/selfie1.jpg\" width=\"300px\"/>\n",
      "  <h2>\n",
      "   About me\n",
      "  </h2>\n",
      "  <p>\n",
      "   Hi, my name is Keith and I am a YouTuber who focuses on content related to programming, data science, and machine learning!\n",
      "  </p>\n",
      "  <p>\n",
      "   Here is a link to my channel:\n",
      "   <a href=\"https://www.youtube.com/kgmit\">\n",
      "    youtube.com/kgmit\n",
      "   </a>\n",
      "  </p>\n",
      "  <p>\n",
      "   I grew up in the great state of New Hampshire here in the USA. From an early age I always loved math. Around my senior year of high school, my brother first introduced me to programming. I found it a creative way to apply the same type of logical thinking skills that I enjoyed with math. This influenced me to study computer science in college and ultimately create a YouTube channel to share some things that I have learned along the way.\n",
      "  </p>\n",
      "  <h3>\n",
      "   Hobbies\n",
      "  </h3>\n",
      "  <p>\n",
      "   Believe it or not, I don't code 24/7. I love doing all sorts of active things. I like to play ice hockey &amp; table tennis as well as run, hike, skateboard, and snowboard. In addition to sports, I am a board game enthusiast. The two that I've been playing the most recently are\n",
      "   <i>\n",
      "    Settlers of Catan\n",
      "   </i>\n",
      "   and\n",
      "   <i>\n",
      "    Othello\n",
      "   </i>\n",
      "   .\n",
      "  </p>\n",
      "  <h3>\n",
      "   Fun Facts\n",
      "  </h3>\n",
      "  <ul class=\"fun-facts\">\n",
      "   <li>\n",
      "    Owned my dream car in high school\n",
      "    <a href=\"#footer\">\n",
      "     <sup>\n",
      "      1\n",
      "     </sup>\n",
      "    </a>\n",
      "   </li>\n",
      "   <li>\n",
      "    Middle name is Ronald\n",
      "   </li>\n",
      "   <li>\n",
      "    Never had been on a plane until college\n",
      "   </li>\n",
      "   <li>\n",
      "    Dunkin Donuts coffee is better than Starbucks\n",
      "   </li>\n",
      "   <li>\n",
      "    A favorite book series of mine is\n",
      "    <i>\n",
      "     Ender's Game\n",
      "    </i>\n",
      "   </li>\n",
      "   <li>\n",
      "    Current video game of choice is\n",
      "    <i>\n",
      "     Rocket League\n",
      "    </i>\n",
      "   </li>\n",
      "   <li>\n",
      "    The band that I've seen the most times live is the\n",
      "    <i>\n",
      "     Zac Brown Band\n",
      "    </i>\n",
      "   </li>\n",
      "  </ul>\n",
      "  <h2>\n",
      "   Social Media\n",
      "  </h2>\n",
      "  I encourage you to check out my content on all social media platforms\n",
      "  <br/>\n",
      "  <ul class=\"socials\">\n",
      "   <li class=\"social instagram\">\n",
      "    <b>\n",
      "     Instagram:\n",
      "    </b>\n",
      "    <a href=\"https://www.instagram.com/keithgalli/\">\n",
      "     https://www.instagram.com/keithgalli/\n",
      "    </a>\n",
      "   </li>\n",
      "   <li class=\"social twitter\">\n",
      "    <b>\n",
      "     Twitter:\n",
      "    </b>\n",
      "    <a href=\"https://twitter.com/keithgalli\">\n",
      "     https://twitter.com/keithgalli\n",
      "    </a>\n",
      "   </li>\n",
      "   <li class=\"social linkedin\">\n",
      "    <b>\n",
      "     LinkedIn:\n",
      "    </b>\n",
      "    <a href=\"https://www.linkedin.com/in/keithgalli/\">\n",
      "     https://www.linkedin.com/in/keithgalli/\n",
      "    </a>\n",
      "   </li>\n",
      "   <li class=\"social tiktok\">\n",
      "    <b>\n",
      "     TikTok:\n",
      "    </b>\n",
      "    <a href=\"https://www.tiktok.com/@keithgalli\">\n",
      "     https://www.tiktok.com/@keithgalli\n",
      "    </a>\n",
      "   </li>\n",
      "  </ul>\n",
      "  <h2>\n",
      "   Photos\n",
      "  </h2>\n",
      "  Here are a few photos from a trip to italy I took last year\n",
      "  <div class=\"row\">\n",
      "   <div class=\"column\">\n",
      "    <img alt=\"Lake Como\" src=\"images/italy/lake_como.jpg\" style=\"height:100%\"/>\n",
      "   </div>\n",
      "   <div class=\"column\">\n",
      "    <img alt=\"Pontevecchio, Florence\" src=\"images/italy/pontevecchio.jpg\" style=\"height:100%\"/>\n",
      "   </div>\n",
      "   <div class=\"column\">\n",
      "    <img alt=\"Riomaggiore, Cinque de Terre\" src=\"images/italy/riomaggiore.jpg\" style=\"height:100%\"/>\n",
      "   </div>\n",
      "  </div>\n",
      "  <div>\n",
      "  </div>\n",
      "  <h2>\n",
      "   Table\n",
      "  </h2>\n",
      "  My MIT hockey stats :)\n",
      "  <br/>\n",
      "  <table class=\"hockey-stats\">\n",
      "   <thead>\n",
      "    <tr>\n",
      "     <th class=\"season\" data-sort=\"\">\n",
      "      S\n",
      "     </th>\n",
      "     <th class=\"team\" data-sort=\"team\">\n",
      "      Team\n",
      "     </th>\n",
      "     <th class=\"league\" data-sort=\"league\">\n",
      "      League\n",
      "     </th>\n",
      "     <th class=\"regular gp\" data-sort=\"gp\">\n",
      "      GP\n",
      "     </th>\n",
      "     <th class=\"regular g\" data-sort=\"g\">\n",
      "      G\n",
      "     </th>\n",
      "     <th class=\"regular a\" data-sort=\"a\">\n",
      "      A\n",
      "     </th>\n",
      "     <th class=\"regular tp\" data-sort=\"tp\">\n",
      "      TP\n",
      "     </th>\n",
      "     <th class=\"regular pim\" data-sort=\"pim\">\n",
      "      PIM\n",
      "     </th>\n",
      "     <th class=\"regular pm\" data-sort=\"pm\">\n",
      "      +/-\n",
      "     </th>\n",
      "     <th class=\"separator\">\n",
      "     </th>\n",
      "     <th class=\"postseason\">\n",
      "      POST\n",
      "     </th>\n",
      "     <th class=\"postseason gp\" data-sort=\"playoffs-gp\">\n",
      "      GP\n",
      "     </th>\n",
      "     <th class=\"postseason g\" data-sort=\"playoffs-g\">\n",
      "      G\n",
      "     </th>\n",
      "     <th class=\"postseason a\" data-sort=\"playoffs-a\">\n",
      "      A\n",
      "     </th>\n",
      "     <th class=\"postseason tp\" data-sort=\"playoffs-tp\">\n",
      "      TP\n",
      "     </th>\n",
      "     <th class=\"postseason pim\" data-sort=\"playoffs-pim\">\n",
      "      PIM\n",
      "     </th>\n",
      "     <th class=\"postseason pm\" data-sort=\"playoffs-pm\">\n",
      "      +/-\n",
      "     </th>\n",
      "    </tr>\n",
      "   </thead>\n",
      "   <tbody>\n",
      "    <tr class=\"team-continent-NA\">\n",
      "     <td class=\"season sorted\">\n",
      "      2014-15\n",
      "     </td>\n",
      "     <td class=\"team\">\n",
      "      <i>\n",
      "       <img src=\"images/flag.png\"/>\n",
      "      </i>\n",
      "      <span class=\"txt-blue\">\n",
      "       <a href=\"https://www.eliteprospects.com/team/10263/mit-mass.-inst.-of-tech./2014-2015?tab=stats\">\n",
      "        MIT (Mass. Inst. of Tech.)\n",
      "       </a>\n",
      "      </span>\n",
      "     </td>\n",
      "     <td class=\"league\">\n",
      "      <a href=\"https://www.eliteprospects.com/league/acha-ii/stats/2014-2015\">\n",
      "       ACHA II\n",
      "      </a>\n",
      "     </td>\n",
      "     <td class=\"regular gp\">\n",
      "      17\n",
      "     </td>\n",
      "     <td class=\"regular g\">\n",
      "      3\n",
      "     </td>\n",
      "     <td class=\"regular a\">\n",
      "      9\n",
      "     </td>\n",
      "     <td class=\"regular tp\">\n",
      "      12\n",
      "     </td>\n",
      "     <td class=\"regular pim\">\n",
      "      20\n",
      "     </td>\n",
      "     <td class=\"regular pm\">\n",
      "     </td>\n",
      "     <td class=\"separator\">\n",
      "      |\n",
      "     </td>\n",
      "     <td class=\"postseason\">\n",
      "      <a href=\"https://www.eliteprospects.com/league/acha-ii/stats/2014-2015\">\n",
      "      </a>\n",
      "     </td>\n",
      "     <td class=\"postseason gp\">\n",
      "     </td>\n",
      "     <td class=\"postseason g\">\n",
      "     </td>\n",
      "     <td class=\"postseason a\">\n",
      "     </td>\n",
      "     <td class=\"postseason tp\">\n",
      "     </td>\n",
      "     <td class=\"postseason pim\">\n",
      "     </td>\n",
      "     <td class=\"postseason pm\">\n",
      "     </td>\n",
      "    </tr>\n",
      "    <tr class=\"team-continent-NA\">\n",
      "     <td class=\"season sorted\">\n",
      "      2015-16\n",
      "     </td>\n",
      "     <td class=\"team\">\n",
      "      <i>\n",
      "       <img src=\"images/flag.png\"/>\n",
      "      </i>\n",
      "      <span class=\"txt-blue\">\n",
      "       <a href=\"https://www.eliteprospects.com/team/10263/mit-mass.-inst.-of-tech./2015-2016?tab=stats\">\n",
      "        MIT (Mass. Inst. of Tech.)\n",
      "       </a>\n",
      "      </span>\n",
      "     </td>\n",
      "     <td class=\"league\">\n",
      "      <a href=\"https://www.eliteprospects.com/league/acha-ii/stats/2015-2016\">\n",
      "       ACHA II\n",
      "      </a>\n",
      "     </td>\n",
      "     <td class=\"regular gp\">\n",
      "      9\n",
      "     </td>\n",
      "     <td class=\"regular g\">\n",
      "      1\n",
      "     </td>\n",
      "     <td class=\"regular a\">\n",
      "      1\n",
      "     </td>\n",
      "     <td class=\"regular tp\">\n",
      "      2\n",
      "     </td>\n",
      "     <td class=\"regular pim\">\n",
      "      2\n",
      "     </td>\n",
      "     <td class=\"regular pm\">\n",
      "     </td>\n",
      "     <td class=\"separator\">\n",
      "      |\n",
      "     </td>\n",
      "     <td class=\"postseason\">\n",
      "      <a href=\"https://www.eliteprospects.com/league/acha-ii/stats/2015-2016\">\n",
      "      </a>\n",
      "     </td>\n",
      "     <td class=\"postseason gp\">\n",
      "     </td>\n",
      "     <td class=\"postseason g\">\n",
      "     </td>\n",
      "     <td class=\"postseason a\">\n",
      "     </td>\n",
      "     <td class=\"postseason tp\">\n",
      "     </td>\n",
      "     <td class=\"postseason pim\">\n",
      "     </td>\n",
      "     <td class=\"postseason pm\">\n",
      "     </td>\n",
      "    </tr>\n",
      "    <tr class=\"team-continent-NA\">\n",
      "     <td class=\"season sorted\">\n",
      "      2016-17\n",
      "     </td>\n",
      "     <td class=\"team\">\n",
      "      <i>\n",
      "       <img src=\"images/flag.png\"/>\n",
      "      </i>\n",
      "      <span class=\"txt-blue\">\n",
      "       <a href=\"https://www.eliteprospects.com/team/10263/mit-mass.-inst.-of-tech./2016-2017?tab=stats\">\n",
      "        MIT (Mass. Inst. of Tech.)\n",
      "       </a>\n",
      "      </span>\n",
      "     </td>\n",
      "     <td class=\"league\">\n",
      "      <a href=\"https://www.eliteprospects.com/league/acha-ii/stats/2016-2017\">\n",
      "       ACHA II\n",
      "      </a>\n",
      "     </td>\n",
      "     <td class=\"regular gp\">\n",
      "      12\n",
      "     </td>\n",
      "     <td class=\"regular g\">\n",
      "      5\n",
      "     </td>\n",
      "     <td class=\"regular a\">\n",
      "      5\n",
      "     </td>\n",
      "     <td class=\"regular tp\">\n",
      "      10\n",
      "     </td>\n",
      "     <td class=\"regular pim\">\n",
      "      8\n",
      "     </td>\n",
      "     <td class=\"regular pm\">\n",
      "      0\n",
      "     </td>\n",
      "     <td class=\"separator\">\n",
      "      |\n",
      "     </td>\n",
      "     <td class=\"postseason\">\n",
      "     </td>\n",
      "     <td class=\"postseason gp\">\n",
      "     </td>\n",
      "     <td class=\"postseason g\">\n",
      "     </td>\n",
      "     <td class=\"postseason a\">\n",
      "     </td>\n",
      "     <td class=\"postseason tp\">\n",
      "     </td>\n",
      "     <td class=\"postseason pim\">\n",
      "     </td>\n",
      "     <td class=\"postseason pm\">\n",
      "     </td>\n",
      "    </tr>\n",
      "    <tr class=\"team-continent-EU\">\n",
      "     <td class=\"season sorted\">\n",
      "      2017-18\n",
      "     </td>\n",
      "     <td class=\"team\">\n",
      "      Did not play\n",
      "     </td>\n",
      "     <td class=\"league\">\n",
      "      <a href=\"https://www.eliteprospects.com/stats\">\n",
      "      </a>\n",
      "     </td>\n",
      "     <td class=\"regular gp\">\n",
      "     </td>\n",
      "     <td class=\"regular g\">\n",
      "     </td>\n",
      "     <td class=\"regular a\">\n",
      "     </td>\n",
      "     <td class=\"regular tp\">\n",
      "     </td>\n",
      "     <td class=\"regular pim\">\n",
      "     </td>\n",
      "     <td class=\"regular pm\">\n",
      "     </td>\n",
      "     <td class=\"separator\">\n",
      "      |\n",
      "     </td>\n",
      "     <td class=\"postseason\">\n",
      "      <a href=\"https://www.eliteprospects.com/stats\">\n",
      "      </a>\n",
      "     </td>\n",
      "     <td class=\"postseason gp\">\n",
      "     </td>\n",
      "     <td class=\"postseason g\">\n",
      "     </td>\n",
      "     <td class=\"postseason a\">\n",
      "     </td>\n",
      "     <td class=\"postseason tp\">\n",
      "     </td>\n",
      "     <td class=\"postseason pim\">\n",
      "     </td>\n",
      "     <td class=\"postseason pm\">\n",
      "     </td>\n",
      "    </tr>\n",
      "    <tr class=\"team-continent-NA\">\n",
      "     <td class=\"season sorted\">\n",
      "      2018-19\n",
      "     </td>\n",
      "     <td class=\"team\">\n",
      "      <i>\n",
      "       <img src=\"images/flag.png\"/>\n",
      "      </i>\n",
      "      <span class=\"txt-blue\">\n",
      "       <a href=\"https://www.eliteprospects.com/team/10263/mit-mass.-inst.-of-tech./2018-2019?tab=stats\">\n",
      "        MIT (Mass. Inst. of Tech.)\n",
      "       </a>\n",
      "      </span>\n",
      "     </td>\n",
      "     <td class=\"league\">\n",
      "      <a href=\"https://www.eliteprospects.com/league/acha-iii/stats/2018-2019\">\n",
      "       ACHA III\n",
      "      </a>\n",
      "     </td>\n",
      "     <td class=\"regular gp\">\n",
      "      8\n",
      "     </td>\n",
      "     <td class=\"regular g\">\n",
      "      5\n",
      "     </td>\n",
      "     <td class=\"regular a\">\n",
      "      10\n",
      "     </td>\n",
      "     <td class=\"regular tp\">\n",
      "      15\n",
      "     </td>\n",
      "     <td class=\"regular pim\">\n",
      "      8\n",
      "     </td>\n",
      "     <td class=\"regular pm\">\n",
      "     </td>\n",
      "     <td class=\"separator\">\n",
      "      |\n",
      "     </td>\n",
      "     <td class=\"postseason\">\n",
      "      <a href=\"https://www.eliteprospects.com/league/acha-iii/stats/2018-2019\">\n",
      "      </a>\n",
      "     </td>\n",
      "     <td class=\"postseason gp\">\n",
      "     </td>\n",
      "     <td class=\"postseason g\">\n",
      "     </td>\n",
      "     <td class=\"postseason a\">\n",
      "     </td>\n",
      "     <td class=\"postseason tp\">\n",
      "     </td>\n",
      "     <td class=\"postseason pim\">\n",
      "     </td>\n",
      "     <td class=\"postseason pm\">\n",
      "     </td>\n",
      "    </tr>\n",
      "   </tbody>\n",
      "  </table>\n",
      "  <h2>\n",
      "   Mystery Message Challenge!\n",
      "  </h2>\n",
      "  <p>\n",
      "   If you scrape the links below grabbing the &lt;p&gt; tag with id=\"secret-word\", you'll discover a secret message :)\n",
      "  </p>\n",
      "  <div width=\"50%\">\n",
      "   <div align=\"left\" class=\"block\">\n",
      "    <ul>\n",
      "     <li>\n",
      "      <a href=\"challenge/file_1.html\">\n",
      "       File 1\n",
      "      </a>\n",
      "     </li>\n",
      "     <li>\n",
      "      <a href=\"challenge/file_2.html\">\n",
      "       File 2\n",
      "      </a>\n",
      "     </li>\n",
      "     <li>\n",
      "      <a href=\"challenge/file_3.html\">\n",
      "       File 3\n",
      "      </a>\n",
      "     </li>\n",
      "     <li>\n",
      "      <a href=\"challenge/file_4.html\">\n",
      "       File 4\n",
      "      </a>\n",
      "     </li>\n",
      "     <li>\n",
      "      <a href=\"challenge/file_5.html\">\n",
      "       File 5\n",
      "      </a>\n",
      "     </li>\n",
      "    </ul>\n",
      "   </div>\n",
      "   <div align=\"center\" class=\"block\">\n",
      "    <ul>\n",
      "     <li>\n",
      "      <a href=\"challenge/file_6.html\">\n",
      "       File 6\n",
      "      </a>\n",
      "     </li>\n",
      "     <li>\n",
      "      <a href=\"challenge/file_7.html\">\n",
      "       File 7\n",
      "      </a>\n",
      "     </li>\n",
      "     <li>\n",
      "      <a href=\"challenge/file_8.html\">\n",
      "       File 8\n",
      "      </a>\n",
      "     </li>\n",
      "     <li>\n",
      "      <a href=\"challenge/file_9.html\">\n",
      "       File 9\n",
      "      </a>\n",
      "     </li>\n",
      "     <li>\n",
      "      <a href=\"challenge/file_10.html\">\n",
      "       File 10\n",
      "      </a>\n",
      "     </li>\n",
      "    </ul>\n",
      "   </div>\n",
      "  </div>\n",
      "  <h2>\n",
      "   Footnotes\n",
      "  </h2>\n",
      "  <p id=\"footer\">\n",
      "   1. This was actually a minivan that I named Debora. Maybe not my dream car, but I loved her nonetheless.\n",
      "  </p>\n",
      " </body>\n",
      "</html>\n"
     ]
    }
   ],
   "source": [
    "#contenido de la pagina:\n",
    "url = \"https://keithgalli.github.io/web-scraping/\"\n",
    "q = requests.get(url + \"webpage.html\")\n",
    "\n",
    "#beautifulsoup object:\n",
    "webpage = bs(q.content)\n",
    "\n",
    "print(webpage.prettify())"
   ]
  },
  {
   "cell_type": "code",
   "execution_count": 27,
   "metadata": {},
   "outputs": [
    {
     "data": {
      "text/plain": [
       "['https://www.instagram.com/keithgalli/',\n",
       " 'https://twitter.com/keithgalli',\n",
       " 'https://www.linkedin.com/in/keithgalli/',\n",
       " 'https://www.tiktok.com/@keithgalli']"
      ]
     },
     "execution_count": 27,
     "metadata": {},
     "output_type": "execute_result"
    }
   ],
   "source": [
    "#la primer manera es usando find_all:\n",
    "#creamos una lista de redes sociales\n",
    "lista = [\"instagram.com\",\"twitter.com\",\"linkedin.com\",\"tiktok.com\"]\n",
    "\n",
    "#creamos una lista con todos los sitios web presentes en la pagina web:\n",
    "all_links = webpage.find_all(\"a\", href = True)\n",
    "\n",
    "#creamos una lista vacia\n",
    "links = []\n",
    "\n",
    "#ciclo para extraer links en la pagina web de redes sociales presentes en nuestra lista:\n",
    "for site in lista:\n",
    "    for link in all_links:       \n",
    "        if site in link.attrs['href']:\n",
    "            links.append(link.attrs['href'])\n",
    "            \n",
    "            \n",
    "links\n",
    "    "
   ]
  },
  {
   "cell_type": "code",
   "execution_count": 28,
   "metadata": {},
   "outputs": [
    {
     "data": {
      "text/plain": [
       "['https://www.instagram.com/keithgalli/',\n",
       " 'https://twitter.com/keithgalli',\n",
       " 'https://www.linkedin.com/in/keithgalli/',\n",
       " 'https://www.tiktok.com/@keithgalli']"
      ]
     },
     "execution_count": 28,
     "metadata": {},
     "output_type": "execute_result"
    }
   ],
   "source": [
    "#usando el metodo de keith:\n",
    "ulinks = webpage.select(\"ul.socials a\")\n",
    "\n",
    "links =[link[\"href\"] for link in ulinks]\n",
    "\n",
    "links"
   ]
  },
  {
   "cell_type": "code",
   "execution_count": 29,
   "metadata": {},
   "outputs": [
    {
     "data": {
      "text/plain": [
       "['https://www.instagram.com/keithgalli/',\n",
       " 'https://twitter.com/keithgalli',\n",
       " 'https://www.linkedin.com/in/keithgalli/',\n",
       " 'https://www.tiktok.com/@keithgalli']"
      ]
     },
     "execution_count": 29,
     "metadata": {},
     "output_type": "execute_result"
    }
   ],
   "source": [
    "#otro metodo:\n",
    "ulist= webpage.find(\"ul\", attrs = {\"class\":\"socials\"})\n",
    "\n",
    "links = ulist.find_all(\"a\")\n",
    "\n",
    "actual_links = [link[\"href\"] for link in links]\n",
    "\n",
    "actual_links"
   ]
  },
  {
   "cell_type": "code",
   "execution_count": 30,
   "metadata": {},
   "outputs": [
    {
     "data": {
      "text/plain": [
       "['https://www.instagram.com/keithgalli/',\n",
       " 'https://twitter.com/keithgalli',\n",
       " 'https://www.linkedin.com/in/keithgalli/',\n",
       " 'https://www.tiktok.com/@keithgalli']"
      ]
     },
     "execution_count": 30,
     "metadata": {},
     "output_type": "execute_result"
    }
   ],
   "source": [
    "links = webpage.select(\"li.social a\")\n",
    "\n",
    "\n",
    "actual_links = [link[\"href\"] for link in links]\n",
    "\n",
    "actual_links\n"
   ]
  },
  {
   "cell_type": "markdown",
   "metadata": {},
   "source": [
    "## Extraer una tabla de una pagina\n",
    "\n",
    ".strip() --- reemplaza \\n o caracteres parecidos en espacio en blanco."
   ]
  },
  {
   "cell_type": "code",
   "execution_count": 31,
   "metadata": {},
   "outputs": [
    {
     "data": {
      "text/plain": [
       "<table class=\"hockey-stats\">\n",
       "<thead>\n",
       "<tr>\n",
       "<th class=\"season\" data-sort=\"\">S</th>\n",
       "<th class=\"team\" data-sort=\"team\">Team</th>\n",
       "<th class=\"league\" data-sort=\"league\">League</th>\n",
       "<th class=\"regular gp\" data-sort=\"gp\">GP</th>\n",
       "<th class=\"regular g\" data-sort=\"g\">G</th>\n",
       "<th class=\"regular a\" data-sort=\"a\">A</th>\n",
       "<th class=\"regular tp\" data-sort=\"tp\">TP</th>\n",
       "<th class=\"regular pim\" data-sort=\"pim\">PIM</th>\n",
       "<th class=\"regular pm\" data-sort=\"pm\">+/-</th>\n",
       "<th class=\"separator\"> </th>\n",
       "<th class=\"postseason\">POST</th>\n",
       "<th class=\"postseason gp\" data-sort=\"playoffs-gp\">GP</th>\n",
       "<th class=\"postseason g\" data-sort=\"playoffs-g\">G</th>\n",
       "<th class=\"postseason a\" data-sort=\"playoffs-a\">A</th>\n",
       "<th class=\"postseason tp\" data-sort=\"playoffs-tp\">TP</th>\n",
       "<th class=\"postseason pim\" data-sort=\"playoffs-pim\">PIM</th>\n",
       "<th class=\"postseason pm\" data-sort=\"playoffs-pm\">+/-</th>\n",
       "</tr>\n",
       "</thead>\n",
       "<tbody>\n",
       "<tr class=\"team-continent-NA\">\n",
       "<td class=\"season sorted\">\n",
       "                  2014-15\n",
       "              </td>\n",
       "<td class=\"team\">\n",
       "<i><img src=\"images/flag.png\"/></i>\n",
       "<span class=\"txt-blue\">\n",
       "<a href=\"https://www.eliteprospects.com/team/10263/mit-mass.-inst.-of-tech./2014-2015?tab=stats\"> MIT (Mass. Inst. of Tech.) </a>\n",
       "</span>\n",
       "</td>\n",
       "<td class=\"league\"> <a href=\"https://www.eliteprospects.com/league/acha-ii/stats/2014-2015\"> ACHA II </a> </td>\n",
       "<td class=\"regular gp\">17</td>\n",
       "<td class=\"regular g\">3</td>\n",
       "<td class=\"regular a\">9</td>\n",
       "<td class=\"regular tp\">12</td>\n",
       "<td class=\"regular pim\">20</td>\n",
       "<td class=\"regular pm\"></td>\n",
       "<td class=\"separator\"> | </td>\n",
       "<td class=\"postseason\">\n",
       "<a href=\"https://www.eliteprospects.com/league/acha-ii/stats/2014-2015\"> </a>\n",
       "</td>\n",
       "<td class=\"postseason gp\">\n",
       "</td>\n",
       "<td class=\"postseason g\">\n",
       "</td>\n",
       "<td class=\"postseason a\">\n",
       "</td>\n",
       "<td class=\"postseason tp\">\n",
       "</td>\n",
       "<td class=\"postseason pim\">\n",
       "</td>\n",
       "<td class=\"postseason pm\">\n",
       "</td>\n",
       "</tr>\n",
       "<tr class=\"team-continent-NA\">\n",
       "<td class=\"season sorted\">\n",
       "                  2015-16\n",
       "              </td>\n",
       "<td class=\"team\">\n",
       "<i><img src=\"images/flag.png\"/></i>\n",
       "<span class=\"txt-blue\">\n",
       "<a href=\"https://www.eliteprospects.com/team/10263/mit-mass.-inst.-of-tech./2015-2016?tab=stats\"> MIT (Mass. Inst. of Tech.) </a>\n",
       "</span>\n",
       "</td>\n",
       "<td class=\"league\"> <a href=\"https://www.eliteprospects.com/league/acha-ii/stats/2015-2016\"> ACHA II </a> </td>\n",
       "<td class=\"regular gp\">9</td>\n",
       "<td class=\"regular g\">1</td>\n",
       "<td class=\"regular a\">1</td>\n",
       "<td class=\"regular tp\">2</td>\n",
       "<td class=\"regular pim\">2</td>\n",
       "<td class=\"regular pm\"></td>\n",
       "<td class=\"separator\"> | </td>\n",
       "<td class=\"postseason\">\n",
       "<a href=\"https://www.eliteprospects.com/league/acha-ii/stats/2015-2016\"> </a>\n",
       "</td>\n",
       "<td class=\"postseason gp\">\n",
       "</td>\n",
       "<td class=\"postseason g\">\n",
       "</td>\n",
       "<td class=\"postseason a\">\n",
       "</td>\n",
       "<td class=\"postseason tp\">\n",
       "</td>\n",
       "<td class=\"postseason pim\">\n",
       "</td>\n",
       "<td class=\"postseason pm\">\n",
       "</td>\n",
       "</tr>\n",
       "<tr class=\"team-continent-NA\">\n",
       "<td class=\"season sorted\">\n",
       "                  2016-17\n",
       "              </td>\n",
       "<td class=\"team\">\n",
       "<i><img src=\"images/flag.png\"/></i>\n",
       "<span class=\"txt-blue\">\n",
       "<a href=\"https://www.eliteprospects.com/team/10263/mit-mass.-inst.-of-tech./2016-2017?tab=stats\"> MIT (Mass. Inst. of Tech.) </a>\n",
       "</span>\n",
       "</td>\n",
       "<td class=\"league\"> <a href=\"https://www.eliteprospects.com/league/acha-ii/stats/2016-2017\"> ACHA II </a> </td>\n",
       "<td class=\"regular gp\">12</td>\n",
       "<td class=\"regular g\">5</td>\n",
       "<td class=\"regular a\">5</td>\n",
       "<td class=\"regular tp\">10</td>\n",
       "<td class=\"regular pim\">8</td>\n",
       "<td class=\"regular pm\">0</td>\n",
       "<td class=\"separator\"> | </td>\n",
       "<td class=\"postseason\">\n",
       "</td>\n",
       "<td class=\"postseason gp\">\n",
       "</td>\n",
       "<td class=\"postseason g\">\n",
       "</td>\n",
       "<td class=\"postseason a\">\n",
       "</td>\n",
       "<td class=\"postseason tp\">\n",
       "</td>\n",
       "<td class=\"postseason pim\">\n",
       "</td>\n",
       "<td class=\"postseason pm\">\n",
       "</td>\n",
       "</tr>\n",
       "<tr class=\"team-continent-EU\">\n",
       "<td class=\"season sorted\">\n",
       "                  2017-18\n",
       "              </td>\n",
       "<td class=\"team\">\n",
       "                  Did not play\n",
       "              </td>\n",
       "<td class=\"league\"> <a href=\"https://www.eliteprospects.com/stats\"> </a> </td>\n",
       "<td class=\"regular gp\"></td>\n",
       "<td class=\"regular g\"></td>\n",
       "<td class=\"regular a\"></td>\n",
       "<td class=\"regular tp\"></td>\n",
       "<td class=\"regular pim\"></td>\n",
       "<td class=\"regular pm\"></td>\n",
       "<td class=\"separator\"> | </td>\n",
       "<td class=\"postseason\">\n",
       "<a href=\"https://www.eliteprospects.com/stats\"> </a>\n",
       "</td>\n",
       "<td class=\"postseason gp\">\n",
       "</td>\n",
       "<td class=\"postseason g\">\n",
       "</td>\n",
       "<td class=\"postseason a\">\n",
       "</td>\n",
       "<td class=\"postseason tp\">\n",
       "</td>\n",
       "<td class=\"postseason pim\">\n",
       "</td>\n",
       "<td class=\"postseason pm\">\n",
       "</td>\n",
       "</tr>\n",
       "<tr class=\"team-continent-NA\">\n",
       "<td class=\"season sorted\">\n",
       "                  2018-19\n",
       "              </td>\n",
       "<td class=\"team\">\n",
       "<i><img src=\"images/flag.png\"/></i>\n",
       "<span class=\"txt-blue\">\n",
       "<a href=\"https://www.eliteprospects.com/team/10263/mit-mass.-inst.-of-tech./2018-2019?tab=stats\"> MIT (Mass. Inst. of Tech.) </a>\n",
       "</span>\n",
       "</td>\n",
       "<td class=\"league\"> <a href=\"https://www.eliteprospects.com/league/acha-iii/stats/2018-2019\"> ACHA III </a> </td>\n",
       "<td class=\"regular gp\">8</td>\n",
       "<td class=\"regular g\">5</td>\n",
       "<td class=\"regular a\">10</td>\n",
       "<td class=\"regular tp\">15</td>\n",
       "<td class=\"regular pim\">8</td>\n",
       "<td class=\"regular pm\"></td>\n",
       "<td class=\"separator\"> | </td>\n",
       "<td class=\"postseason\">\n",
       "<a href=\"https://www.eliteprospects.com/league/acha-iii/stats/2018-2019\"> </a>\n",
       "</td>\n",
       "<td class=\"postseason gp\">\n",
       "</td>\n",
       "<td class=\"postseason g\">\n",
       "</td>\n",
       "<td class=\"postseason a\">\n",
       "</td>\n",
       "<td class=\"postseason tp\">\n",
       "</td>\n",
       "<td class=\"postseason pim\">\n",
       "</td>\n",
       "<td class=\"postseason pm\">\n",
       "</td>\n",
       "</tr>\n",
       "</tbody>\n",
       "</table>"
      ]
     },
     "execution_count": 31,
     "metadata": {},
     "output_type": "execute_result"
    }
   ],
   "source": [
    "table = webpage.select('table.hockey-stats')[0]\n",
    "\n",
    "table"
   ]
  },
  {
   "cell_type": "code",
   "execution_count": 32,
   "metadata": {},
   "outputs": [
    {
     "data": {
      "text/html": [
       "<div>\n",
       "<style scoped>\n",
       "    .dataframe tbody tr th:only-of-type {\n",
       "        vertical-align: middle;\n",
       "    }\n",
       "\n",
       "    .dataframe tbody tr th {\n",
       "        vertical-align: top;\n",
       "    }\n",
       "\n",
       "    .dataframe thead th {\n",
       "        text-align: right;\n",
       "    }\n",
       "</style>\n",
       "<table border=\"1\" class=\"dataframe\">\n",
       "  <thead>\n",
       "    <tr style=\"text-align: right;\">\n",
       "      <th></th>\n",
       "      <th>S</th>\n",
       "      <th>Team</th>\n",
       "      <th>League</th>\n",
       "      <th>GP</th>\n",
       "      <th>G</th>\n",
       "      <th>A</th>\n",
       "      <th>TP</th>\n",
       "      <th>PIM</th>\n",
       "      <th>+/-</th>\n",
       "      <th></th>\n",
       "      <th>POST</th>\n",
       "      <th>GP</th>\n",
       "      <th>G</th>\n",
       "      <th>A</th>\n",
       "      <th>TP</th>\n",
       "      <th>PIM</th>\n",
       "      <th>+/-</th>\n",
       "    </tr>\n",
       "  </thead>\n",
       "  <tbody>\n",
       "    <tr>\n",
       "      <th>0</th>\n",
       "      <td>2014-15</td>\n",
       "      <td>MIT (Mass. Inst. of Tech.)</td>\n",
       "      <td>ACHA II</td>\n",
       "      <td>17</td>\n",
       "      <td>3</td>\n",
       "      <td>9</td>\n",
       "      <td>12</td>\n",
       "      <td>20</td>\n",
       "      <td></td>\n",
       "      <td>|</td>\n",
       "      <td></td>\n",
       "      <td></td>\n",
       "      <td></td>\n",
       "      <td></td>\n",
       "      <td></td>\n",
       "      <td></td>\n",
       "      <td></td>\n",
       "    </tr>\n",
       "    <tr>\n",
       "      <th>1</th>\n",
       "      <td>2015-16</td>\n",
       "      <td>MIT (Mass. Inst. of Tech.)</td>\n",
       "      <td>ACHA II</td>\n",
       "      <td>9</td>\n",
       "      <td>1</td>\n",
       "      <td>1</td>\n",
       "      <td>2</td>\n",
       "      <td>2</td>\n",
       "      <td></td>\n",
       "      <td>|</td>\n",
       "      <td></td>\n",
       "      <td></td>\n",
       "      <td></td>\n",
       "      <td></td>\n",
       "      <td></td>\n",
       "      <td></td>\n",
       "      <td></td>\n",
       "    </tr>\n",
       "    <tr>\n",
       "      <th>2</th>\n",
       "      <td>2016-17</td>\n",
       "      <td>MIT (Mass. Inst. of Tech.)</td>\n",
       "      <td>ACHA II</td>\n",
       "      <td>12</td>\n",
       "      <td>5</td>\n",
       "      <td>5</td>\n",
       "      <td>10</td>\n",
       "      <td>8</td>\n",
       "      <td>0</td>\n",
       "      <td>|</td>\n",
       "      <td></td>\n",
       "      <td></td>\n",
       "      <td></td>\n",
       "      <td></td>\n",
       "      <td></td>\n",
       "      <td></td>\n",
       "      <td></td>\n",
       "    </tr>\n",
       "    <tr>\n",
       "      <th>3</th>\n",
       "      <td>2017-18</td>\n",
       "      <td>Did not play</td>\n",
       "      <td></td>\n",
       "      <td></td>\n",
       "      <td></td>\n",
       "      <td></td>\n",
       "      <td></td>\n",
       "      <td></td>\n",
       "      <td></td>\n",
       "      <td>|</td>\n",
       "      <td></td>\n",
       "      <td></td>\n",
       "      <td></td>\n",
       "      <td></td>\n",
       "      <td></td>\n",
       "      <td></td>\n",
       "      <td></td>\n",
       "    </tr>\n",
       "    <tr>\n",
       "      <th>4</th>\n",
       "      <td>2018-19</td>\n",
       "      <td>MIT (Mass. Inst. of Tech.)</td>\n",
       "      <td>ACHA III</td>\n",
       "      <td>8</td>\n",
       "      <td>5</td>\n",
       "      <td>10</td>\n",
       "      <td>15</td>\n",
       "      <td>8</td>\n",
       "      <td></td>\n",
       "      <td>|</td>\n",
       "      <td></td>\n",
       "      <td></td>\n",
       "      <td></td>\n",
       "      <td></td>\n",
       "      <td></td>\n",
       "      <td></td>\n",
       "      <td></td>\n",
       "    </tr>\n",
       "  </tbody>\n",
       "</table>\n",
       "</div>"
      ],
      "text/plain": [
       "         S                        Team    League  GP  G   A  TP PIM +/-     \\\n",
       "0  2014-15  MIT (Mass. Inst. of Tech.)   ACHA II  17  3   9  12  20      |   \n",
       "1  2015-16  MIT (Mass. Inst. of Tech.)   ACHA II   9  1   1   2   2      |   \n",
       "2  2016-17  MIT (Mass. Inst. of Tech.)   ACHA II  12  5   5  10   8   0  |   \n",
       "3  2017-18                Did not play                                   |   \n",
       "4  2018-19  MIT (Mass. Inst. of Tech.)  ACHA III   8  5  10  15   8      |   \n",
       "\n",
       "  POST GP G A TP PIM +/-  \n",
       "0                         \n",
       "1                         \n",
       "2                         \n",
       "3                         \n",
       "4                         "
      ]
     },
     "execution_count": 32,
     "metadata": {},
     "output_type": "execute_result"
    }
   ],
   "source": [
    "columns = table.find(\"thead\").find_all(\"th\")\n",
    "\n",
    "column_names =[c.string for c in columns]\n",
    "\n",
    "table_rows = table.find(\"tbody\").find_all(\"tr\")\n",
    "\n",
    "l = []\n",
    "for tr in table_rows:\n",
    "    td = tr.find_all('td')\n",
    "    row = [str(tr.get_text()).strip() for tr in td]\n",
    "    l.append(row)\n",
    "\n",
    "df = pd.DataFrame(l,columns=column_names)\n",
    "df.head()"
   ]
  },
  {
   "cell_type": "markdown",
   "metadata": {},
   "source": [
    "## Obtener todos los \"fun facts\" que usen la palabra \"is\""
   ]
  },
  {
   "cell_type": "code",
   "execution_count": 33,
   "metadata": {},
   "outputs": [
    {
     "data": {
      "text/plain": [
       "['Middle name is Ronald',\n",
       " 'Dunkin Donuts coffee is better than Starbucks',\n",
       " \"A favorite book series of mine is Ender's Game\",\n",
       " 'Current video game of choice is Rocket League',\n",
       " \"The band that I've seen the most times live is the Zac Brown Band\"]"
      ]
     },
     "execution_count": 33,
     "metadata": {},
     "output_type": "execute_result"
    }
   ],
   "source": [
    "facts = webpage.select(\"ul.fun-facts li\")\n",
    "\n",
    "facts_is = [fact.find(string =re.compile(\"is\")) for fact in facts if fact]\n",
    "\n",
    "#quitamos los valores None de la lista:\n",
    "facts_is =[fact.find_parent().get_text() for fact in facts_is if fact]\n",
    "\n",
    "facts_is"
   ]
  },
  {
   "cell_type": "markdown",
   "metadata": {},
   "source": [
    "## Descargar imagenes"
   ]
  },
  {
   "cell_type": "code",
   "execution_count": 57,
   "metadata": {},
   "outputs": [],
   "source": [
    "images = webpage.select(\"div.row div.column img\")\n",
    "\n",
    "for i in range(len(images)):\n",
    "    image_url = images[i][\"src\"]\n",
    "    full_url = url+image_url\n",
    "    img_data = requests.get(full_url).content\n",
    "    with open(f\"lake_como{i}.jpg\", 'wb') as handler:\n",
    "        handler.write(img_data)\n"
   ]
  },
  {
   "cell_type": "markdown",
   "metadata": {},
   "source": [
    "## Mystery message challenge\n",
    "\n",
    "Primero haré lo posible por resolver este ejercicio , despues me guiaré en el tutorial de Keith."
   ]
  },
  {
   "cell_type": "code",
   "execution_count": 84,
   "metadata": {},
   "outputs": [
    {
     "name": "stdout",
     "output_type": "stream",
     "text": [
      "Make\n",
      "sure\n",
      "to\n",
      "smash\n",
      "that\n",
      "like\n",
      "button\n",
      "and\n",
      "subscribe\n",
      "!!!\n"
     ]
    }
   ],
   "source": [
    "links = webpage.select(\"div.block a\")\n",
    "\n",
    "real_links = [url + link[\"href\"] for link in links]\n",
    "\n",
    "def mensaje_web(link):\n",
    "    q=requests.get(link)\n",
    "    page = bs(q.content)\n",
    "    return page.find(\"p\",attrs={\"id\":\"secret-word\"}).get_text()\n",
    "    \n",
    "    \n",
    "for link in real_links:\n",
    "    print(mensaje_web(link))\n"
   ]
  },
  {
   "cell_type": "code",
   "execution_count": null,
   "metadata": {},
   "outputs": [],
   "source": [
    "q = requests.get(url + \"webpage.html\")\n",
    "\n",
    "#beautifulsoup object:\n",
    "webpage = bs(q.content)"
   ]
  },
  {
   "cell_type": "code",
   "execution_count": 24,
   "metadata": {},
   "outputs": [],
   "source": [
    "import os, re\n",
    "\n",
    "def purge(ruta, pattern):\n",
    "    for f in os.listdir(dir):\n",
    "        if re.search(pattern, f):\n",
    "            print(f)\n",
    "            #os.remove(os.path.join(dir, f))"
   ]
  },
  {
   "cell_type": "code",
   "execution_count": null,
   "metadata": {},
   "outputs": [],
   "source": []
  },
  {
   "cell_type": "code",
   "execution_count": null,
   "metadata": {},
   "outputs": [],
   "source": []
  }
 ],
 "metadata": {
  "kernelspec": {
   "display_name": "Python 3",
   "language": "python",
   "name": "python3"
  },
  "language_info": {
   "codemirror_mode": {
    "name": "ipython",
    "version": 3
   },
   "file_extension": ".py",
   "mimetype": "text/x-python",
   "name": "python",
   "nbconvert_exporter": "python",
   "pygments_lexer": "ipython3",
   "version": "3.7.6"
  }
 },
 "nbformat": 4,
 "nbformat_minor": 4
}
